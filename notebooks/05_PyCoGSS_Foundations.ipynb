{
 "cells": [
  {
   "cell_type": "markdown",
   "id": "02d56da3",
   "metadata": {},
   "source": [
    "# PyCoGSS"
   ]
  },
  {
   "cell_type": "markdown",
   "id": "428c762a",
   "metadata": {},
   "source": [
    "Description"
   ]
  },
  {
   "cell_type": "markdown",
   "id": "0d697334",
   "metadata": {},
   "source": [
    "---"
   ]
  },
  {
   "cell_type": "markdown",
   "id": "7bdc8455",
   "metadata": {},
   "source": [
    "## Overview\n",
    "\n",
    "Text"
   ]
  },
  {
   "cell_type": "markdown",
   "id": "5d68add4",
   "metadata": {},
   "source": [
    "## Prerequisites\n",
    "\n",
    "Text"
   ]
  },
  {
   "cell_type": "markdown",
   "id": "4cbdba05",
   "metadata": {},
   "source": [
    "---"
   ]
  },
  {
   "cell_type": "markdown",
   "id": "1d7ed252",
   "metadata": {},
   "source": [
    "# Motivation"
   ]
  },
  {
   "cell_type": "markdown",
   "id": "e26ebf33",
   "metadata": {},
   "source": [
    "## What is NDVI?\n",
    "\n",
    "NDVI (Normalized Difference Vegetation Index) is a simple way to measure how green and healthy vegetation is using satellite imagery. It compares how much red light and near-infrared light (NIR) is reflected from the Earth's surface:\n",
    "\n",
    "- Healthy vegetation absorbs most of the red light for photosynthesis and reflects a lot of near-infrared light.\n",
    "- Unhealthy or sparse vegetation reflects more red light and less near-infrared light.\n",
    "\n",
    "NDVI is calculated using the following formula:\n",
    "\n",
    "$NDVI = (NIR - RED) / (NIR + RED)$\n",
    "\n",
    "Where:\n",
    "- NIR = reflectance in the near-infrared band\n",
    "- RED = reflectance in the red band"
   ]
  },
  {
   "cell_type": "markdown",
   "id": "2df8e2a0",
   "metadata": {},
   "source": [
    "## How do satellites help track NDVI in the Arctic?\n",
    "Satellite data can track vegetation change in the Arctic by repeatedly measuring how much red and near-infrared light is reflected from the land surface over time. By comparing NDVI values across seasons and years, scientists can detect trends such as Arctic greening or browning, helping to monitor the effects of climate change on tundra ecosystems at large scales. This is especially important in places like the Arctic, where remote characterization is the rule rather than the exception, and where local effects of climate, fire, and other disturbance can make vegetation change [complex](https://www.nature.com/articles/s41558-019-0688-1)."
   ]
  },
  {
   "cell_type": "markdown",
   "id": "e6009097",
   "metadata": {},
   "source": [
    "## Why is vegetation changing in the Arctic, and why does it matter?\n",
    "Vegetation in the Arctic is changing due to climate warming, which enhances plant growth, alters nutrient availability, and shifts species distributions. These changes affect permafrost integrity by modifying soil thermal regimes—vegetation can insulate soils in winter and cool them in summer, influencing thaw depth. These changes promote the growth of shrubs and graminoids, contributing to a trend known as Arctic greening. However, this pattern is not uniform—spatial heterogeneity plays a major role, as local factors like soil moisture, topography, permafrost ice content, and disturbance events (e.g., wildfires, flooding, abrupt thaw) can lead to browning or shifts in plant community composition.The transformation of tundra ecosystems has global implications, including greenhouse gas release from thawing permafrost, contributing to climate feedback loops.\n",
    "\n",
    "<img src=\"https://media.springernature.com/full/springer-static/image/art%3A10.1038%2Fs43017-021-00233-0/MediaObjects/43017_2021_233_Fig1_HTML.png\" alt=\"drawing\" width=\"600\"/>\n",
    "<!-- ![vegetation change trajectories](https://media.springernature.com/full/springer-static/image/art%3A10.1038%2Fs43017-021-00233-0/MediaObjects/43017_2021_233_Fig1_HTML.png \"vegetation change trajectories\") -->\n",
    "\n",
    "Figure 1 from [Heijmans et al., 2022](https://www.nature.com/articles/s43017-021-00233-0)"
   ]
  },
  {
   "cell_type": "markdown",
   "id": "1d1a3995",
   "metadata": {},
   "source": [
    "## Research questions\n",
    "\n",
    "Even though the hydrology and thermal state of permafrost is important in predicting how much it will thaw and the fate of the carbon and sediment subjected to thaw, we generally can't see water or heat in the subsurface from space. But wouldn't it be great if we could use vegetation greening and browning to \"see\" what's under the permafrost? To get to a place where we can do that, one outstanding research question we would need to solve is how topographic and hydrological variations influence plant growth and change across the Arctic landscape. Our research team is using specific Arctic landforms known as [water tracks](https://agupubs.onlinelibrary.wiley.com/doi/full/10.1029/2024RG000854), which we think are particularly sensitive to climate change, as a sort of \"litmus test\" for vegetation change to see if these features are getting warmer, colder, wetter, or drier, and how vegetation in versus outisde of these water tracks are changing. That's why we need a <b>scalable and reproducible workflow to track vegetation change across many temporal scales</b> - tracking green-up (when plants first leaf out and get green early in the growing season) as well as overall greenness (which might go up or down over time depending on climate or landscape change)."
   ]
  },
  {
   "cell_type": "markdown",
   "id": "4e0c2e3d",
   "metadata": {},
   "source": [
    "---"
   ]
  },
  {
   "cell_type": "markdown",
   "id": "df894fec",
   "metadata": {},
   "source": [
    "## Summary\n",
    "\n",
    "We learned how satellites can track vegetation change, and why it's particularly useful to use satellites to track vegetation change in the Arctic. We learned why it is important, but perhaps computationally challenging, to develop ways to calculate vegetation change over specific areas over specific times. "
   ]
  },
  {
   "cell_type": "markdown",
   "id": "af73392e",
   "metadata": {},
   "source": [
    "## What's Next?\n",
    "\n",
    "In the next notebook we will:\n",
    "- Establish an area of interest (AOI) in which to track NDVI\n",
    "- Parse a satellite spatio-temporal asset catalog (STAC) of Sentinel-2 satellite imagery for the time and place of interest\n",
    "- (Pelican/OSDF magic)\n",
    "- Calculate a time series of NDVI values for our AOI"
   ]
  }
 ],
 "metadata": {
  "language_info": {
   "name": "python"
  }
 },
 "nbformat": 4,
 "nbformat_minor": 5
}
