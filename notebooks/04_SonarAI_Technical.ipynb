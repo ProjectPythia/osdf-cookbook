{
 "cells": [
  {
   "cell_type": "markdown",
   "metadata": {},
   "source": "# SonarAI Technical Notebook"
  },
  {
   "cell_type": "markdown",
   "metadata": {},
   "source": [
    "# Notebook Overview\n",
    "\n",
    "In this notebook, we aim to investigate potential correlations between environmental variables derived from NCAR datasets—such as **Sea Surface Temperature** and **Mean Evaporation Rate**(tbd) — and the **abundance of fish observed within the water column**, as recorded by sonar.\n",
    "\n",
    "The **sonar dataset** was collected by **NOAA Fisheries** during a research cruise conducted aboard the vessel *H.B. Bigelow* between **October and November 2019**. To facilitate analysis, we integrate this dataset with two NCAR environmental datasets (*[tbd]* and *[tbd]*), aligning them both **spatially** and **temporally**.\n",
    "\n",
    "This integration enables us to examine statistical relationships between physical oceanographic conditions and fish distribution patterns.\n",
    "\n",
    "## Notebook Structure\n",
    "\n",
    "1. **Imports**\n",
    "2. **Data Loading**\n",
    "2. **Data Preprocessing**\n",
    "3. **Data Visualization**\n"
   ]
  },
  {
   "cell_type": "markdown",
   "metadata": {},
   "source": [
    "---"
   ]
  },
  {
   "cell_type": "markdown",
   "metadata": {},
   "source": [
    "## Prerequisites\n",
    "This section was inspired by [this template](https://github.com/alan-turing-institute/the-turing-way/blob/master/book/templates/chapter-template/chapter-landing-page.md) of the wonderful [The Turing Way](https://the-turing-way.netlify.app) Jupyter Book.\n",
    "\n",
    "Following your overview, tell your reader what concepts, packages, or other background information they'll **need** before learning your material. Tie this explicitly with links to other pages here in Foundations or to relevant external resources. Remove this body text, then populate the Markdown table, denoted in this cell with `|` vertical brackets, below, and fill out the information following. In this table, lay out prerequisite concepts by explicitly linking to other Foundations material or external resources, or describe generally helpful concepts.\n",
    "\n",
    "Label the importance of each concept explicitly as **helpful/necessary**.\n",
    "\n",
    "| Concepts | Importance | Notes |\n",
    "| --- | --- | --- |\n",
    "| [Intro to Cartopy](https://foundations.projectpythia.org/core/cartopy/cartopy) | Necessary | |\n",
    "| [Understanding of NetCDF](https://foundations.projectpythia.org/core/data-formats/netcdf-cf) | Helpful | Familiarity with metadata structure |\n",
    "| Project management | Helpful | |\n",
    "\n",
    "- **Time to learn**: estimate in minutes. For a rough idea, use 5 mins per subsection, 10 if longer; add these up for a total. Safer to round up and overestimate.\n",
    "- **System requirements**:\n",
    "    - Populate with any system, version, or non-Python software requirements if necessary\n",
    "    - Otherwise use the concepts table above and the Imports section below to describe required packages as necessary\n",
    "    - If no extra requirements, remove the **System requirements** point altogether"
   ]
  },
  {
   "cell_type": "markdown",
   "metadata": {},
   "source": [
    "---"
   ]
  },
  {
   "cell_type": "markdown",
   "metadata": {},
   "source": [
    "## Imports\n",
    "Begin your body of content with another `---` divider before continuing into this section, then remove this body text and populate the following code cell with all necessary Python imports **up-front**:"
   ]
  },
  {
   "cell_type": "code",
   "metadata": {
    "ExecuteTime": {
     "end_time": "2025-08-08T15:51:43.419373Z",
     "start_time": "2025-08-08T15:51:40.783143Z"
    }
   },
   "source": [
    "import xarray as xr\n",
    "import s3fs\n",
    "import numpy as np\n",
    "import plotly.graph_objects as go\n",
    "from plotly.subplots import make_subplots\n",
    "import pandas as pd\n",
    "import requests\n",
    "import io\n",
    "import os"
   ],
   "outputs": [],
   "execution_count": 1
  },
  {
   "cell_type": "markdown",
   "metadata": {},
   "source": "## Initializing the datasets"
  },
  {
   "cell_type": "markdown",
   "metadata": {},
   "source": "All datasets are accessed using the OSDF infrastructure"
  },
  {
   "cell_type": "code",
   "metadata": {
    "ExecuteTime": {
     "end_time": "2025-08-08T15:54:02.714159Z",
     "start_time": "2025-08-08T15:51:43.429275Z"
    }
   },
   "source": [
    "bucket_name = 'noaa-wcsd-zarr-pds'\n",
    "ship_name = \"Henry_B._Bigelow\"\n",
    "cruise_name = \"HB1906\"\n",
    "sensor_name = \"EK60\"\n",
    "\n",
    "# Accessing the NOAA HB1906 dataset using OSDF\n",
    "s3_file_system = s3fs.S3FileSystem(anon=True)\n",
    "zarr_store = f'{cruise_name}.zarr'\n",
    "s3_zarr_store_path = f\"{bucket_name}/level_2/{ship_name}/{cruise_name}/{sensor_name}/{zarr_store}\"\n",
    "store = s3fs.S3Map(root=s3_zarr_store_path, s3=s3_file_system, check=False)\n",
    "cruise = xr.open_zarr(store=store, consolidated=None)\n",
    "start_time = \"2019-10-16T15:00:00\"\n",
    "end_time = \"2019-10-16T23:30:00\"\n",
    "timeslice = slice(start_time, end_time)\n",
    "depths=slice(10, 250)\n",
    "cruise = cruise.sel(time=timeslice, depth=depths, drop=False)\n",
    "cruise = cruise.sel(frequency=38000, method='nearest').compute()\n",
    "cruise = cruise.where(cruise.depth < cruise.bottom, drop=True)\n",
    "hm_timestamps = cruise.time.values.tolist()\n",
    "\n",
    "# location of one specific buoy located on Georges Bank\n",
    "target_lon = 360 - 66.546\n",
    "target_lat = 41.088\n",
    "print(f\"Target coordinates: Longitude: {target_lon}, Latitude: {target_lat}\")\n",
    "# Accessing stationary buoy data from a specific buoy located on Georges Bank, sampled daily\n",
    "bouy_data_day_before = xr.open_dataset(\n",
    "    'https://data.rda.ucar.edu/d277007/avhrr_v2.1/2019/oisst-avhrr-v02r01.20191015.nc#mode=bytes', engine='netcdf4')\n",
    "buoy_data_actual_day = xr.open_dataset(\n",
    "    'https://data.rda.ucar.edu/d277007/avhrr_v2.1/2019/oisst-avhrr-v02r01.20191016.nc#mode=bytes',\n",
    "    engine='netcdf4')\n",
    "buoy_data_day_after = xr.open_dataset(\n",
    "    'https://data.rda.ucar.edu/d277007/avhrr_v2.1/2019/oisst-avhrr-v02r01.20191017.nc#mode=bytes',\n",
    "    engine='netcdf4')\n",
    "\n",
    "sst_day_before = bouy_data_day_before['sst'].sel(lon=target_lon, lat=target_lat, method='nearest').values[0][0]\n",
    "sst_actual_day = buoy_data_actual_day['sst'].sel(lon=target_lon, lat=target_lat, method='nearest').values[0][0]\n",
    "sst_day_after = buoy_data_day_after['sst'].sel(lon=target_lon, lat=target_lat, method='nearest').values[0][0]\n",
    "# Accessing a second dataset from NCAR, gridded satellite data, sampled hourly\n",
    "url = 'https://data-osdf.rda.ucar.edu/ncar/rda/d633000/kerchunk/meanflux/Mean_evaporation_rate-osdf.json'\n",
    "ds = xr.open_dataset(url, engine='kerchunk')\n",
    "\n",
    "response = requests.get('https://data-osdf.rda.ucar.edu/ncar/rda/pythia_2025/osdf-cookbook/mae_error_map.npy')\n",
    "response.raise_for_status()\n",
    "error_map = np.load(io.BytesIO(response.content))\n",
    "# return sst_day_before, sst_actual_day, sst_day_after, cruise"
   ],
   "outputs": [
    {
     "name": "stdout",
     "output_type": "stream",
     "text": [
      "Target coordinates: Longitude: 293.454, Latitude: 41.088\n"
     ]
    }
   ],
   "execution_count": 2
  },
  {
   "cell_type": "markdown",
   "metadata": {},
   "source": [
    "---"
   ]
  },
  {
   "metadata": {},
   "cell_type": "markdown",
   "source": "## Preprocessing"
  },
  {
   "metadata": {
    "ExecuteTime": {
     "end_time": "2025-08-08T15:55:22.075924Z",
     "start_time": "2025-08-08T15:55:13.087504Z"
    }
   },
   "cell_type": "code",
   "source": [
    "mer = ds.sel(longitude=target_lon, latitude=target_lat, method='nearest')\n",
    "# print(subset.forecast_initial_time[:5].values)\n",
    "mer = mer.sel(forecast_initial_time=slice(start_time, end_time))\n",
    "mer = mer.MER.head(9).values.tolist()[0]"
   ],
   "outputs": [],
   "execution_count": 3
  },
  {
   "metadata": {
    "ExecuteTime": {
     "end_time": "2025-08-08T15:55:22.082545Z",
     "start_time": "2025-08-08T15:55:22.080912Z"
    }
   },
   "cell_type": "code",
   "source": [
    "def calculate_sv_mean(input_sv):\n",
    "    sv = 10. ** (input_sv / 10.)\n",
    "    return 10 * np.log10(np.mean(sv))"
   ],
   "outputs": [],
   "execution_count": 4
  },
  {
   "metadata": {
    "ExecuteTime": {
     "end_time": "2025-08-08T15:56:01.583908Z",
     "start_time": "2025-08-08T15:56:01.151246Z"
    }
   },
   "cell_type": "code",
   "source": [
    "cruise['time_hour'] = cruise['time'].dt.floor('1h')\n",
    "\n",
    "# Step 2: Group by each hour\n",
    "grouped = cruise.groupby('time_hour')\n",
    "\n",
    "# Step 3: Extract each 1-hour Dataset as a chunk\n",
    "chunks = [group.drop_vars('time_hour') for _, group in grouped]"
   ],
   "outputs": [],
   "execution_count": 5
  },
  {
   "metadata": {
    "ExecuteTime": {
     "end_time": "2025-08-08T15:56:36.655268Z",
     "start_time": "2025-08-08T15:56:36.494113Z"
    }
   },
   "cell_type": "code",
   "source": [
    "sv_hourly = []\n",
    "timestamps = []\n",
    "mers = []\n",
    "\n",
    "for i in range(0,len(chunks)):\n",
    "    sv_data = chunks[i]['Sv']\n",
    "    result = calculate_sv_mean(sv_data)\n",
    "\n",
    "    ts = pd.to_datetime(chunks[i]['time'].values[0])\n",
    "    result = result.compute()\n",
    "    result = float(result.values)\n",
    "\n",
    "    sv_hourly.append([ts, result])\n",
    "    mers.append([ts, mer[i]])\n"
   ],
   "outputs": [],
   "execution_count": 6
  },
  {
   "metadata": {},
   "cell_type": "markdown",
   "source": "## Visualization"
  },
  {
   "metadata": {},
   "cell_type": "markdown",
   "source": "Decription"
  },
  {
   "metadata": {
    "ExecuteTime": {
     "end_time": "2025-08-08T15:56:49.205226Z",
     "start_time": "2025-08-08T15:56:48.344928Z"
    }
   },
   "cell_type": "code",
   "source": [
    "def plot_synchronized_heatmaps(\n",
    "        heatmap_timestamps: np.ndarray,\n",
    "        anomalies: np.ndarray = None,\n",
    "        correlated_variables: list = None,\n",
    "        depths: np.ndarray = None,\n",
    "        colorscale: str = 'Reds',\n",
    "):\n",
    "\n",
    "    # --- Create Subplots ---\n",
    "    print(\"anomalies shape:\", anomalies.shape)\n",
    "    print(\"len(heatmap_timestamps):\", len(heatmap_timestamps))\n",
    "    print(\"len(depths):\", len(depths))\n",
    "    heatmap_timestamps = pd.to_datetime(heatmap_timestamps)\n",
    "    # print(len(heatmap_timestamps))\n",
    "    # print(heatmap_timestamps[:50])\n",
    "    fig = make_subplots(\n",
    "        rows=2, cols=1,\n",
    "        shared_xaxes=True,\n",
    "        # shared_yaxes=True,\n",
    "        vertical_spacing=0.03\n",
    "    )\n",
    "\n",
    "\n",
    "    # cb_len1, cb_y1 = 0.28, 0.86\n",
    "    cb_len, cb_y = 0.28, 0.14\n",
    "    # print(correlated_variables[0])\n",
    "    # Unpack sparse data\n",
    "    timestamps_0, values_0 = zip(*correlated_variables[0])\n",
    "    timestamps_1, values_1 = zip(*correlated_variables[1])\n",
    "\n",
    "    # Add Scatter plots\n",
    "    fig.add_trace(\n",
    "        go.Scatter(\n",
    "            x=timestamps_0,\n",
    "            y=values_0,\n",
    "            name=\"Sv (1h log-mean)\",\n",
    "            mode='lines+markers'\n",
    "        ),\n",
    "        row=1, col=1\n",
    "    )\n",
    "\n",
    "    fig.add_trace(\n",
    "        go.Scatter(\n",
    "            x=timestamps_1,\n",
    "            y=values_1,\n",
    "            name=\"Mean Evaporation Rate (MAR)\",\n",
    "            mode='lines+markers'\n",
    "        ),\n",
    "        row=1, col=1\n",
    "    )\n",
    "\n",
    "    # --- Add Heatmap ---\n",
    "    anomalies = anomalies[:,:,1]\n",
    "    fig.add_trace(\n",
    "        go.Heatmap(\n",
    "            z=anomalies.astype(int),\n",
    "            colorscale=colorscale,\n",
    "            zmin=anomalies.min(),\n",
    "            zmax=anomalies.max(),\n",
    "            colorbar_len=cb_len,\n",
    "            colorbar_y=cb_y,\n",
    "            # name=\"Correlations\",\n",
    "            showscale=True,\n",
    "            x=heatmap_timestamps,\n",
    "            y=depths,\n",
    "        ),\n",
    "        row=2, col=1\n",
    "    )\n",
    "    fig.update_yaxes(autorange='reversed', row=2, col=1)\n",
    "    # --- Save ---\n",
    "\n",
    "    try:\n",
    "        save_dir = os.path.dirname(os.getcwd())\n",
    "        if save_dir and not os.path.exists(save_dir):\n",
    "            os.makedirs(save_dir)\n",
    "        fig.write_html(save_dir + '/out.html')\n",
    "        print(\"Plot saved\")\n",
    "        fig.show()\n",
    "    except Exception as e:\n",
    "        print(f\"Error saving plot: {e}\")\n",
    "\n",
    "plot_synchronized_heatmaps(heatmap_timestamps=hm_timestamps, anomalies=error_map, correlated_variables=[sv_hourly, mers], depths=cruise.depth.values)"
   ],
   "outputs": [
    {
     "name": "stdout",
     "output_type": "stream",
     "text": [
      "anomalies shape: (1088, 28096, 4)\n",
      "len(heatmap_timestamps): 29211\n",
      "len(depths): 1094\n"
     ]
    },
    {
     "ename": "KeyboardInterrupt",
     "evalue": "",
     "output_type": "error",
     "traceback": [
      "\u001B[0;31m---------------------------------------------------------------------------\u001B[0m",
      "\u001B[0;31mKeyboardInterrupt\u001B[0m                         Traceback (most recent call last)",
      "Cell \u001B[0;32mIn[7], line 82\u001B[0m\n\u001B[1;32m     79\u001B[0m     \u001B[38;5;28;01mexcept\u001B[39;00m \u001B[38;5;167;01mException\u001B[39;00m \u001B[38;5;28;01mas\u001B[39;00m e:\n\u001B[1;32m     80\u001B[0m         \u001B[38;5;28mprint\u001B[39m(\u001B[38;5;124mf\u001B[39m\u001B[38;5;124m\"\u001B[39m\u001B[38;5;124mError saving plot: \u001B[39m\u001B[38;5;132;01m{\u001B[39;00me\u001B[38;5;132;01m}\u001B[39;00m\u001B[38;5;124m\"\u001B[39m)\n\u001B[0;32m---> 82\u001B[0m \u001B[43mplot_synchronized_heatmaps\u001B[49m\u001B[43m(\u001B[49m\u001B[43mheatmap_timestamps\u001B[49m\u001B[38;5;241;43m=\u001B[39;49m\u001B[43mhm_timestamps\u001B[49m\u001B[43m,\u001B[49m\u001B[43m \u001B[49m\u001B[43manomalies\u001B[49m\u001B[38;5;241;43m=\u001B[39;49m\u001B[43merror_map\u001B[49m\u001B[43m,\u001B[49m\u001B[43m \u001B[49m\u001B[43mcorrelated_variables\u001B[49m\u001B[38;5;241;43m=\u001B[39;49m\u001B[43m[\u001B[49m\u001B[43msv_hourly\u001B[49m\u001B[43m,\u001B[49m\u001B[43m \u001B[49m\u001B[43mmers\u001B[49m\u001B[43m]\u001B[49m\u001B[43m,\u001B[49m\u001B[43m \u001B[49m\u001B[43mdepths\u001B[49m\u001B[38;5;241;43m=\u001B[39;49m\u001B[43mcruise\u001B[49m\u001B[38;5;241;43m.\u001B[39;49m\u001B[43mdepth\u001B[49m\u001B[38;5;241;43m.\u001B[39;49m\u001B[43mvalues\u001B[49m\u001B[43m)\u001B[49m\n",
      "Cell \u001B[0;32mIn[7], line 16\u001B[0m, in \u001B[0;36mplot_synchronized_heatmaps\u001B[0;34m(heatmap_timestamps, anomalies, correlated_variables, depths, colorscale)\u001B[0m\n\u001B[1;32m     13\u001B[0m heatmap_timestamps \u001B[38;5;241m=\u001B[39m pd\u001B[38;5;241m.\u001B[39mto_datetime(heatmap_timestamps)\n\u001B[1;32m     14\u001B[0m \u001B[38;5;66;03m# print(len(heatmap_timestamps))\u001B[39;00m\n\u001B[1;32m     15\u001B[0m \u001B[38;5;66;03m# print(heatmap_timestamps[:50])\u001B[39;00m\n\u001B[0;32m---> 16\u001B[0m fig \u001B[38;5;241m=\u001B[39m \u001B[43mmake_subplots\u001B[49m\u001B[43m(\u001B[49m\n\u001B[1;32m     17\u001B[0m \u001B[43m    \u001B[49m\u001B[43mrows\u001B[49m\u001B[38;5;241;43m=\u001B[39;49m\u001B[38;5;241;43m2\u001B[39;49m\u001B[43m,\u001B[49m\u001B[43m \u001B[49m\u001B[43mcols\u001B[49m\u001B[38;5;241;43m=\u001B[39;49m\u001B[38;5;241;43m1\u001B[39;49m\u001B[43m,\u001B[49m\n\u001B[1;32m     18\u001B[0m \u001B[43m    \u001B[49m\u001B[43mshared_xaxes\u001B[49m\u001B[38;5;241;43m=\u001B[39;49m\u001B[38;5;28;43;01mTrue\u001B[39;49;00m\u001B[43m,\u001B[49m\n\u001B[1;32m     19\u001B[0m \u001B[43m    \u001B[49m\u001B[38;5;66;43;03m# shared_yaxes=True,\u001B[39;49;00m\n\u001B[1;32m     20\u001B[0m \u001B[43m    \u001B[49m\u001B[43mvertical_spacing\u001B[49m\u001B[38;5;241;43m=\u001B[39;49m\u001B[38;5;241;43m0.03\u001B[39;49m\n\u001B[1;32m     21\u001B[0m \u001B[43m\u001B[49m\u001B[43m)\u001B[49m\n\u001B[1;32m     24\u001B[0m \u001B[38;5;66;03m# cb_len1, cb_y1 = 0.28, 0.86\u001B[39;00m\n\u001B[1;32m     25\u001B[0m cb_len, cb_y \u001B[38;5;241m=\u001B[39m \u001B[38;5;241m0.28\u001B[39m, \u001B[38;5;241m0.14\u001B[39m\n",
      "File \u001B[0;32m~/Github/SonarAI/venvs/py312/lib/python3.12/site-packages/plotly/subplots.py:305\u001B[0m, in \u001B[0;36mmake_subplots\u001B[0;34m(rows, cols, shared_xaxes, shared_yaxes, start_cell, print_grid, horizontal_spacing, vertical_spacing, subplot_titles, column_widths, row_heights, specs, insets, column_titles, row_titles, x_title, y_title, figure, **kwargs)\u001B[0m\n\u001B[1;32m      6\u001B[0m \u001B[38;5;28;01mdef\u001B[39;00m \u001B[38;5;21mmake_subplots\u001B[39m(\n\u001B[1;32m      7\u001B[0m     rows\u001B[38;5;241m=\u001B[39m\u001B[38;5;241m1\u001B[39m,\n\u001B[1;32m      8\u001B[0m     cols\u001B[38;5;241m=\u001B[39m\u001B[38;5;241m1\u001B[39m,\n\u001B[0;32m   (...)\u001B[0m\n\u001B[1;32m     25\u001B[0m     \u001B[38;5;241m*\u001B[39m\u001B[38;5;241m*\u001B[39mkwargs,\n\u001B[1;32m     26\u001B[0m ) \u001B[38;5;241m-\u001B[39m\u001B[38;5;241m>\u001B[39m go\u001B[38;5;241m.\u001B[39mFigure:\n\u001B[1;32m     27\u001B[0m \u001B[38;5;250m    \u001B[39m\u001B[38;5;124;03m\"\"\"\u001B[39;00m\n\u001B[1;32m     28\u001B[0m \u001B[38;5;124;03m    Return an instance of plotly.graph_objs.Figure with predefined subplots\u001B[39;00m\n\u001B[1;32m     29\u001B[0m \u001B[38;5;124;03m    configured in 'layout'.\u001B[39;00m\n\u001B[0;32m   (...)\u001B[0m\n\u001B[1;32m    302\u001B[0m \u001B[38;5;124;03m    Figure(...)\u001B[39;00m\n\u001B[1;32m    303\u001B[0m \u001B[38;5;124;03m    \"\"\"\u001B[39;00m\n\u001B[0;32m--> 305\u001B[0m     \u001B[38;5;28;01mreturn\u001B[39;00m \u001B[43m_sub\u001B[49m\u001B[38;5;241;43m.\u001B[39;49m\u001B[43mmake_subplots\u001B[49m\u001B[43m(\u001B[49m\n\u001B[1;32m    306\u001B[0m \u001B[43m        \u001B[49m\u001B[43mrows\u001B[49m\u001B[43m,\u001B[49m\n\u001B[1;32m    307\u001B[0m \u001B[43m        \u001B[49m\u001B[43mcols\u001B[49m\u001B[43m,\u001B[49m\n\u001B[1;32m    308\u001B[0m \u001B[43m        \u001B[49m\u001B[43mshared_xaxes\u001B[49m\u001B[43m,\u001B[49m\n\u001B[1;32m    309\u001B[0m \u001B[43m        \u001B[49m\u001B[43mshared_yaxes\u001B[49m\u001B[43m,\u001B[49m\n\u001B[1;32m    310\u001B[0m \u001B[43m        \u001B[49m\u001B[43mstart_cell\u001B[49m\u001B[43m,\u001B[49m\n\u001B[1;32m    311\u001B[0m \u001B[43m        \u001B[49m\u001B[43mprint_grid\u001B[49m\u001B[43m,\u001B[49m\n\u001B[1;32m    312\u001B[0m \u001B[43m        \u001B[49m\u001B[43mhorizontal_spacing\u001B[49m\u001B[43m,\u001B[49m\n\u001B[1;32m    313\u001B[0m \u001B[43m        \u001B[49m\u001B[43mvertical_spacing\u001B[49m\u001B[43m,\u001B[49m\n\u001B[1;32m    314\u001B[0m \u001B[43m        \u001B[49m\u001B[43msubplot_titles\u001B[49m\u001B[43m,\u001B[49m\n\u001B[1;32m    315\u001B[0m \u001B[43m        \u001B[49m\u001B[43mcolumn_widths\u001B[49m\u001B[43m,\u001B[49m\n\u001B[1;32m    316\u001B[0m \u001B[43m        \u001B[49m\u001B[43mrow_heights\u001B[49m\u001B[43m,\u001B[49m\n\u001B[1;32m    317\u001B[0m \u001B[43m        \u001B[49m\u001B[43mspecs\u001B[49m\u001B[43m,\u001B[49m\n\u001B[1;32m    318\u001B[0m \u001B[43m        \u001B[49m\u001B[43minsets\u001B[49m\u001B[43m,\u001B[49m\n\u001B[1;32m    319\u001B[0m \u001B[43m        \u001B[49m\u001B[43mcolumn_titles\u001B[49m\u001B[43m,\u001B[49m\n\u001B[1;32m    320\u001B[0m \u001B[43m        \u001B[49m\u001B[43mrow_titles\u001B[49m\u001B[43m,\u001B[49m\n\u001B[1;32m    321\u001B[0m \u001B[43m        \u001B[49m\u001B[43mx_title\u001B[49m\u001B[43m,\u001B[49m\n\u001B[1;32m    322\u001B[0m \u001B[43m        \u001B[49m\u001B[43my_title\u001B[49m\u001B[43m,\u001B[49m\n\u001B[1;32m    323\u001B[0m \u001B[43m        \u001B[49m\u001B[43mfigure\u001B[49m\u001B[43m,\u001B[49m\n\u001B[1;32m    324\u001B[0m \u001B[43m        \u001B[49m\u001B[38;5;241;43m*\u001B[39;49m\u001B[38;5;241;43m*\u001B[39;49m\u001B[43mkwargs\u001B[49m\u001B[43m,\u001B[49m\n\u001B[1;32m    325\u001B[0m \u001B[43m    \u001B[49m\u001B[43m)\u001B[49m\n",
      "File \u001B[0;32m~/Github/SonarAI/venvs/py312/lib/python3.12/site-packages/plotly/_subplots.py:880\u001B[0m, in \u001B[0;36mmake_subplots\u001B[0;34m(rows, cols, shared_xaxes, shared_yaxes, start_cell, print_grid, horizontal_spacing, vertical_spacing, subplot_titles, column_widths, row_heights, specs, insets, column_titles, row_titles, x_title, y_title, figure, **kwargs)\u001B[0m\n\u001B[1;32m    878\u001B[0m \u001B[38;5;66;03m# Build resulting figure\u001B[39;00m\n\u001B[1;32m    879\u001B[0m \u001B[38;5;28;01mif\u001B[39;00m figure \u001B[38;5;129;01mis\u001B[39;00m \u001B[38;5;28;01mNone\u001B[39;00m:\n\u001B[0;32m--> 880\u001B[0m     figure \u001B[38;5;241m=\u001B[39m \u001B[43mgo\u001B[49m\u001B[38;5;241;43m.\u001B[39;49m\u001B[43mFigure\u001B[49m\u001B[43m(\u001B[49m\u001B[43m)\u001B[49m\n\u001B[1;32m    881\u001B[0m figure\u001B[38;5;241m.\u001B[39mupdate_layout(layout)\n\u001B[1;32m    883\u001B[0m \u001B[38;5;66;03m# Attach subplot grid info to the figure\u001B[39;00m\n",
      "File \u001B[0;32m~/Github/SonarAI/venvs/py312/lib/python3.12/site-packages/plotly/graph_objs/_figure.py:646\u001B[0m, in \u001B[0;36mFigure.__init__\u001B[0;34m(self, data, layout, frames, skip_invalid, **kwargs)\u001B[0m\n\u001B[1;32m      5\u001B[0m \u001B[38;5;28;01mdef\u001B[39;00m \u001B[38;5;21m__init__\u001B[39m(\n\u001B[1;32m      6\u001B[0m     \u001B[38;5;28mself\u001B[39m, data\u001B[38;5;241m=\u001B[39m\u001B[38;5;28;01mNone\u001B[39;00m, layout\u001B[38;5;241m=\u001B[39m\u001B[38;5;28;01mNone\u001B[39;00m, frames\u001B[38;5;241m=\u001B[39m\u001B[38;5;28;01mNone\u001B[39;00m, skip_invalid\u001B[38;5;241m=\u001B[39m\u001B[38;5;28;01mFalse\u001B[39;00m, \u001B[38;5;241m*\u001B[39m\u001B[38;5;241m*\u001B[39mkwargs\n\u001B[1;32m      7\u001B[0m ):\n\u001B[1;32m      8\u001B[0m \u001B[38;5;250m    \u001B[39m\u001B[38;5;124;03m\"\"\"\u001B[39;00m\n\u001B[1;32m      9\u001B[0m \u001B[38;5;124;03m    Create a new :class:Figure instance\u001B[39;00m\n\u001B[1;32m     10\u001B[0m \n\u001B[0;32m   (...)\u001B[0m\n\u001B[1;32m    644\u001B[0m \u001B[38;5;124;03m        is invalid AND skip_invalid is False\u001B[39;00m\n\u001B[1;32m    645\u001B[0m \u001B[38;5;124;03m    \"\"\"\u001B[39;00m\n\u001B[0;32m--> 646\u001B[0m     \u001B[38;5;28;43msuper\u001B[39;49m\u001B[43m(\u001B[49m\u001B[43mFigure\u001B[49m\u001B[43m,\u001B[49m\u001B[43m \u001B[49m\u001B[38;5;28;43mself\u001B[39;49m\u001B[43m)\u001B[49m\u001B[38;5;241;43m.\u001B[39;49m\u001B[38;5;21;43m__init__\u001B[39;49m\u001B[43m(\u001B[49m\u001B[43mdata\u001B[49m\u001B[43m,\u001B[49m\u001B[43m \u001B[49m\u001B[43mlayout\u001B[49m\u001B[43m,\u001B[49m\u001B[43m \u001B[49m\u001B[43mframes\u001B[49m\u001B[43m,\u001B[49m\u001B[43m \u001B[49m\u001B[43mskip_invalid\u001B[49m\u001B[43m,\u001B[49m\u001B[43m \u001B[49m\u001B[38;5;241;43m*\u001B[39;49m\u001B[38;5;241;43m*\u001B[39;49m\u001B[43mkwargs\u001B[49m\u001B[43m)\u001B[49m\n",
      "File \u001B[0;32m~/Github/SonarAI/venvs/py312/lib/python3.12/site-packages/plotly/basedatatypes.py:577\u001B[0m, in \u001B[0;36mBaseFigure.__init__\u001B[0;34m(self, data, layout_plotly, frames, skip_invalid, **kwargs)\u001B[0m\n\u001B[1;32m    567\u001B[0m \u001B[38;5;28mself\u001B[39m\u001B[38;5;241m.\u001B[39m_layout_obj\u001B[38;5;241m.\u001B[39m_parent \u001B[38;5;241m=\u001B[39m \u001B[38;5;28mself\u001B[39m\n\u001B[1;32m    569\u001B[0m \u001B[38;5;66;03m# Config\u001B[39;00m\n\u001B[1;32m    570\u001B[0m \u001B[38;5;66;03m# ------\u001B[39;00m\n\u001B[1;32m    571\u001B[0m \u001B[38;5;66;03m# Pass along default config to the front end. For now this just\u001B[39;00m\n\u001B[0;32m   (...)\u001B[0m\n\u001B[1;32m    575\u001B[0m \u001B[38;5;66;03m# this will require a fair amount of testing to determine which\u001B[39;00m\n\u001B[1;32m    576\u001B[0m \u001B[38;5;66;03m# options are compatible with FigureWidget.\u001B[39;00m\n\u001B[0;32m--> 577\u001B[0m \u001B[38;5;28;01mfrom\u001B[39;00m \u001B[38;5;21;01mplotly\u001B[39;00m\u001B[38;5;21;01m.\u001B[39;00m\u001B[38;5;21;01moffline\u001B[39;00m\u001B[38;5;21;01m.\u001B[39;00m\u001B[38;5;21;01moffline\u001B[39;00m \u001B[38;5;28;01mimport\u001B[39;00m _get_jconfig\n\u001B[1;32m    579\u001B[0m \u001B[38;5;28mself\u001B[39m\u001B[38;5;241m.\u001B[39m_config \u001B[38;5;241m=\u001B[39m _get_jconfig(\u001B[38;5;28;01mNone\u001B[39;00m)\n\u001B[1;32m    581\u001B[0m \u001B[38;5;66;03m# Frames\u001B[39;00m\n\u001B[1;32m    582\u001B[0m \u001B[38;5;66;03m# ------\u001B[39;00m\n\u001B[1;32m    583\u001B[0m \n\u001B[1;32m    584\u001B[0m \u001B[38;5;66;03m# ### Construct frames validator ###\u001B[39;00m\n\u001B[1;32m    585\u001B[0m \u001B[38;5;66;03m# This is the validator that handles importing sequences of frame\u001B[39;00m\n\u001B[1;32m    586\u001B[0m \u001B[38;5;66;03m# objects\u001B[39;00m\n",
      "File \u001B[0;32m~/Github/SonarAI/venvs/py312/lib/python3.12/site-packages/plotly/offline/__init__.py:6\u001B[0m\n\u001B[1;32m      1\u001B[0m \u001B[38;5;124;03m\"\"\"\u001B[39;00m\n\u001B[1;32m      2\u001B[0m \u001B[38;5;124;03moffline\u001B[39;00m\n\u001B[1;32m      3\u001B[0m \u001B[38;5;124;03m======\u001B[39;00m\n\u001B[1;32m      4\u001B[0m \u001B[38;5;124;03mThis module provides offline functionality.\u001B[39;00m\n\u001B[1;32m      5\u001B[0m \u001B[38;5;124;03m\"\"\"\u001B[39;00m\n\u001B[0;32m----> 6\u001B[0m \u001B[38;5;28;01mfrom\u001B[39;00m \u001B[38;5;21;01m.\u001B[39;00m\u001B[38;5;21;01moffline\u001B[39;00m \u001B[38;5;28;01mimport\u001B[39;00m (\n\u001B[1;32m      7\u001B[0m     download_plotlyjs,\n\u001B[1;32m      8\u001B[0m     get_plotlyjs_version,\n\u001B[1;32m      9\u001B[0m     get_plotlyjs,\n\u001B[1;32m     10\u001B[0m     enable_mpl_offline,\n\u001B[1;32m     11\u001B[0m     init_notebook_mode,\n\u001B[1;32m     12\u001B[0m     iplot,\n\u001B[1;32m     13\u001B[0m     iplot_mpl,\n\u001B[1;32m     14\u001B[0m     plot,\n\u001B[1;32m     15\u001B[0m     plot_mpl,\n\u001B[1;32m     16\u001B[0m )\n",
      "File \u001B[0;32m~/Github/SonarAI/venvs/py312/lib/python3.12/site-packages/plotly/offline/offline.py:11\u001B[0m\n\u001B[1;32m      8\u001B[0m \u001B[38;5;28;01mimport\u001B[39;00m \u001B[38;5;21;01mpkgutil\u001B[39;00m\n\u001B[1;32m     10\u001B[0m \u001B[38;5;28;01mfrom\u001B[39;00m \u001B[38;5;21;01mplotly\u001B[39;00m\u001B[38;5;21;01m.\u001B[39;00m\u001B[38;5;21;01moptional_imports\u001B[39;00m \u001B[38;5;28;01mimport\u001B[39;00m get_module\n\u001B[0;32m---> 11\u001B[0m \u001B[38;5;28;01mfrom\u001B[39;00m \u001B[38;5;21;01mplotly\u001B[39;00m \u001B[38;5;28;01mimport\u001B[39;00m tools\n\u001B[1;32m     12\u001B[0m \u001B[38;5;28;01mfrom\u001B[39;00m \u001B[38;5;21;01m.\u001B[39;00m\u001B[38;5;21;01m_plotlyjs_version\u001B[39;00m \u001B[38;5;28;01mimport\u001B[39;00m __plotlyjs_version__\n\u001B[1;32m     15\u001B[0m __IMAGE_FORMATS \u001B[38;5;241m=\u001B[39m [\u001B[38;5;124m\"\u001B[39m\u001B[38;5;124mjpeg\u001B[39m\u001B[38;5;124m\"\u001B[39m, \u001B[38;5;124m\"\u001B[39m\u001B[38;5;124mpng\u001B[39m\u001B[38;5;124m\"\u001B[39m, \u001B[38;5;124m\"\u001B[39m\u001B[38;5;124mwebp\u001B[39m\u001B[38;5;124m\"\u001B[39m, \u001B[38;5;124m\"\u001B[39m\u001B[38;5;124msvg\u001B[39m\u001B[38;5;124m\"\u001B[39m]\n",
      "File \u001B[0;32m<frozen importlib._bootstrap>:1412\u001B[0m, in \u001B[0;36m_handle_fromlist\u001B[0;34m(module, fromlist, import_, recursive)\u001B[0m\n",
      "File \u001B[0;32m~/Github/SonarAI/venvs/py312/lib/python3.12/site-packages/_plotly_utils/importers.py:29\u001B[0m, in \u001B[0;36mrelative_import.<locals>.__getattr__\u001B[0;34m(import_name)\u001B[0m\n\u001B[1;32m     27\u001B[0m \u001B[38;5;28;01mif\u001B[39;00m import_name \u001B[38;5;129;01min\u001B[39;00m module_names:\n\u001B[1;32m     28\u001B[0m     rel_import \u001B[38;5;241m=\u001B[39m module_names[import_name]\n\u001B[0;32m---> 29\u001B[0m     \u001B[38;5;28;01mreturn\u001B[39;00m \u001B[43mimportlib\u001B[49m\u001B[38;5;241;43m.\u001B[39;49m\u001B[43mimport_module\u001B[49m\u001B[43m(\u001B[49m\u001B[43mrel_import\u001B[49m\u001B[43m,\u001B[49m\u001B[43m \u001B[49m\u001B[43mparent_name\u001B[49m\u001B[43m)\u001B[49m\n\u001B[1;32m     31\u001B[0m \u001B[38;5;66;03m# Check for submodule class\u001B[39;00m\n\u001B[1;32m     32\u001B[0m \u001B[38;5;28;01mif\u001B[39;00m import_name \u001B[38;5;129;01min\u001B[39;00m class_names:\n",
      "File \u001B[0;32m/opt/anaconda3/envs/py312_base/lib/python3.12/importlib/__init__.py:90\u001B[0m, in \u001B[0;36mimport_module\u001B[0;34m(name, package)\u001B[0m\n\u001B[1;32m     88\u001B[0m             \u001B[38;5;28;01mbreak\u001B[39;00m\n\u001B[1;32m     89\u001B[0m         level \u001B[38;5;241m+\u001B[39m\u001B[38;5;241m=\u001B[39m \u001B[38;5;241m1\u001B[39m\n\u001B[0;32m---> 90\u001B[0m \u001B[38;5;28;01mreturn\u001B[39;00m \u001B[43m_bootstrap\u001B[49m\u001B[38;5;241;43m.\u001B[39;49m\u001B[43m_gcd_import\u001B[49m\u001B[43m(\u001B[49m\u001B[43mname\u001B[49m\u001B[43m[\u001B[49m\u001B[43mlevel\u001B[49m\u001B[43m:\u001B[49m\u001B[43m]\u001B[49m\u001B[43m,\u001B[49m\u001B[43m \u001B[49m\u001B[43mpackage\u001B[49m\u001B[43m,\u001B[49m\u001B[43m \u001B[49m\u001B[43mlevel\u001B[49m\u001B[43m)\u001B[49m\n",
      "File \u001B[0;32m~/Github/SonarAI/venvs/py312/lib/python3.12/site-packages/plotly/tools.py:14\u001B[0m\n\u001B[1;32m     11\u001B[0m \u001B[38;5;28;01mimport\u001B[39;00m \u001B[38;5;21;01mos\u001B[39;00m\n\u001B[1;32m     13\u001B[0m \u001B[38;5;28;01mfrom\u001B[39;00m \u001B[38;5;21;01mplotly\u001B[39;00m \u001B[38;5;28;01mimport\u001B[39;00m exceptions, optional_imports\n\u001B[0;32m---> 14\u001B[0m \u001B[38;5;28;01mfrom\u001B[39;00m \u001B[38;5;21;01mplotly\u001B[39;00m\u001B[38;5;21;01m.\u001B[39;00m\u001B[38;5;21;01mfiles\u001B[39;00m \u001B[38;5;28;01mimport\u001B[39;00m PLOTLY_DIR\n\u001B[1;32m     16\u001B[0m DEFAULT_PLOTLY_COLORS \u001B[38;5;241m=\u001B[39m [\n\u001B[1;32m     17\u001B[0m     \u001B[38;5;124m\"\u001B[39m\u001B[38;5;124mrgb(31, 119, 180)\u001B[39m\u001B[38;5;124m\"\u001B[39m,\n\u001B[1;32m     18\u001B[0m     \u001B[38;5;124m\"\u001B[39m\u001B[38;5;124mrgb(255, 127, 14)\u001B[39m\u001B[38;5;124m\"\u001B[39m,\n\u001B[0;32m   (...)\u001B[0m\n\u001B[1;32m     26\u001B[0m     \u001B[38;5;124m\"\u001B[39m\u001B[38;5;124mrgb(23, 190, 207)\u001B[39m\u001B[38;5;124m\"\u001B[39m,\n\u001B[1;32m     27\u001B[0m ]\n\u001B[1;32m     30\u001B[0m REQUIRED_GANTT_KEYS \u001B[38;5;241m=\u001B[39m [\u001B[38;5;124m\"\u001B[39m\u001B[38;5;124mTask\u001B[39m\u001B[38;5;124m\"\u001B[39m, \u001B[38;5;124m\"\u001B[39m\u001B[38;5;124mStart\u001B[39m\u001B[38;5;124m\"\u001B[39m, \u001B[38;5;124m\"\u001B[39m\u001B[38;5;124mFinish\u001B[39m\u001B[38;5;124m\"\u001B[39m]\n",
      "File \u001B[0;32m<frozen importlib._bootstrap>:1360\u001B[0m, in \u001B[0;36m_find_and_load\u001B[0;34m(name, import_)\u001B[0m\n",
      "File \u001B[0;32m<frozen importlib._bootstrap>:1331\u001B[0m, in \u001B[0;36m_find_and_load_unlocked\u001B[0;34m(name, import_)\u001B[0m\n",
      "File \u001B[0;32m<frozen importlib._bootstrap>:935\u001B[0m, in \u001B[0;36m_load_unlocked\u001B[0;34m(spec)\u001B[0m\n",
      "File \u001B[0;32m<frozen importlib._bootstrap_external>:991\u001B[0m, in \u001B[0;36mexec_module\u001B[0;34m(self, module)\u001B[0m\n",
      "File \u001B[0;32m<frozen importlib._bootstrap_external>:1087\u001B[0m, in \u001B[0;36mget_code\u001B[0;34m(self, fullname)\u001B[0m\n",
      "File \u001B[0;32m<frozen importlib._bootstrap_external>:1186\u001B[0m, in \u001B[0;36mget_data\u001B[0;34m(self, path)\u001B[0m\n",
      "\u001B[0;31mKeyboardInterrupt\u001B[0m: "
     ]
    }
   ],
   "execution_count": 7
  },
  {
   "metadata": {
    "ExecuteTime": {
     "end_time": "2025-08-08T15:56:49.209917Z",
     "start_time": "2025-08-08T15:41:35.241308Z"
    }
   },
   "cell_type": "code",
   "source": "",
   "outputs": [],
   "execution_count": null
  }
 ],
 "metadata": {
  "kernelspec": {
   "display_name": "Python 3 (ipykernel)",
   "language": "python",
   "name": "python3"
  },
  "language_info": {
   "codemirror_mode": {
    "name": "ipython",
    "version": 3
   },
   "file_extension": ".py",
   "mimetype": "text/x-python",
   "name": "python",
   "nbconvert_exporter": "python",
   "pygments_lexer": "ipython3",
   "version": "3.10.13"
  },
  "nbdime-conflicts": {
   "local_diff": [
    {
     "diff": [
      {
       "diff": [
        {
         "key": 0,
         "op": "addrange",
         "valuelist": [
          "Python 3"
         ]
        },
        {
         "key": 0,
         "length": 1,
         "op": "removerange"
        }
       ],
       "key": "display_name",
       "op": "patch"
      }
     ],
     "key": "kernelspec",
     "op": "patch"
    }
   ],
   "remote_diff": [
    {
     "diff": [
      {
       "diff": [
        {
         "key": 0,
         "op": "addrange",
         "valuelist": [
          "Python3"
         ]
        },
        {
         "key": 0,
         "length": 1,
         "op": "removerange"
        }
       ],
       "key": "display_name",
       "op": "patch"
      }
     ],
     "key": "kernelspec",
     "op": "patch"
    }
   ]
  },
  "toc-autonumbering": false
 },
 "nbformat": 4,
 "nbformat_minor": 4
}
