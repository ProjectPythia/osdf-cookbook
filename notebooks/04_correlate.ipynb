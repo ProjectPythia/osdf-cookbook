{
 "cells": [
  {
   "cell_type": "markdown",
   "metadata": {},
   "source": [
    "# Project Pythia Notebook Template"
   ]
  },
  {
   "cell_type": "markdown",
   "metadata": {},
   "source": [
    "Let's start here! If you can directly link to an image relevant to your notebook, such as [canonical logos](https://github.com/numpy/numpy/blob/main/doc/source/_static/numpylogo.svg), do so here at the top of your notebook. You can do this with MyST Markdown syntax, outlined in [this MyST guide](https://mystmd.org/guide/figures), or you edit this cell to see a demonstration. **Be sure to include `alt` text for any embedded images to make your content more accessible.**\n",
    "\n",
    "```{image} ../thumbnails/thumbnail.png\n",
    ":alt: Project Pythia logo\n",
    ":width: 200px\n",
    "```"
   ]
  },
  {
   "cell_type": "markdown",
   "metadata": {},
   "source": [
    "Next, title your notebook appropriately with a top-level Markdown header, `#` (see the very first cell above). Do not use this level header anywhere else in the notebook. Our book build process will use this title in the navbar, table of contents, etc. Keep it short, keep it descriptive. \n",
    "\n",
    "Follow this with a `---` cell to visually distinguish the transition to the prerequisites section."
   ]
  },
  {
   "cell_type": "markdown",
   "metadata": {},
   "source": [
    "---"
   ]
  },
  {
   "cell_type": "markdown",
   "metadata": {},
   "source": [
    "## Overview\n",
    "If you have an introductory paragraph, lead with it here! Keep it short and tied to your material, then be sure to continue into the required list of topics below,\n",
    "\n",
    "1. This is a numbered list of the specific topics\n",
    "1. These should map approximately to your main sections of content\n",
    "1. Or each second-level, `##`, header in your notebook\n",
    "1. Keep the size and scope of your notebook in check\n",
    "1. And be sure to let the reader know up front the important concepts they'll be leaving with"
   ]
  },
  {
   "cell_type": "markdown",
   "metadata": {},
   "source": [
    "## Prerequisites\n",
    "This section was inspired by [this template](https://github.com/alan-turing-institute/the-turing-way/blob/master/book/templates/chapter-template/chapter-landing-page.md) of the wonderful [The Turing Way](https://the-turing-way.netlify.app) Jupyter Book.\n",
    "\n",
    "Following your overview, tell your reader what concepts, packages, or other background information they'll **need** before learning your material. Tie this explicitly with links to other pages here in Foundations or to relevant external resources. Remove this body text, then populate the Markdown table, denoted in this cell with `|` vertical brackets, below, and fill out the information following. In this table, lay out prerequisite concepts by explicitly linking to other Foundations material or external resources, or describe generally helpful concepts.\n",
    "\n",
    "Label the importance of each concept explicitly as **helpful/necessary**.\n",
    "\n",
    "| Concepts | Importance | Notes |\n",
    "| --- | --- | --- |\n",
    "| [Intro to Cartopy](https://foundations.projectpythia.org/core/cartopy/cartopy) | Necessary | |\n",
    "| [Understanding of NetCDF](https://foundations.projectpythia.org/core/data-formats/netcdf-cf) | Helpful | Familiarity with metadata structure |\n",
    "| Project management | Helpful | |\n",
    "\n",
    "- **Time to learn**: estimate in minutes. For a rough idea, use 5 mins per subsection, 10 if longer; add these up for a total. Safer to round up and overestimate.\n",
    "- **System requirements**:\n",
    "    - Populate with any system, version, or non-Python software requirements if necessary\n",
    "    - Otherwise use the concepts table above and the Imports section below to describe required packages as necessary\n",
    "    - If no extra requirements, remove the **System requirements** point altogether"
   ]
  },
  {
   "cell_type": "markdown",
   "metadata": {},
   "source": [
    "---"
   ]
  },
  {
   "cell_type": "markdown",
   "metadata": {},
   "source": [
    "## Imports\n",
    "Begin your body of content with another `---` divider before continuing into this section, then remove this body text and populate the following code cell with all necessary Python imports **up-front**:"
   ]
  },
  {
   "cell_type": "code",
   "metadata": {
    "ExecuteTime": {
     "end_time": "2025-08-07T19:41:57.603721Z",
     "start_time": "2025-08-07T19:41:21.840225Z"
    }
   },
   "source": [
    "import xarray as xr\n",
    "import numpy as np\n",
    "import pandas as pd\n",
    "%run 04_init_datasets.ipynb"
   ],
   "outputs": [
    {
     "name": "stdout",
     "output_type": "stream",
     "text": [
      "<xarray.Dataset> Size: 297MB\n",
      "Dimensions:    (depth: 2538, time: 29211)\n",
      "Coordinates:\n",
      "  * depth      (depth) float32 10kB 0.0 0.2 0.4 0.6 ... 506.8 507.0 507.2 507.4\n",
      "    frequency  float64 8B 3.8e+04\n",
      "  * time       (time) datetime64[ns] 234kB 2019-10-16T15:00:00.283533056 ... ...\n",
      "Data variables:\n",
      "    Sv         (depth, time) float32 297MB dask.array<chunksize=(512, 111), meta=np.ndarray>\n",
      "    bottom     (time) float32 117kB dask.array<chunksize=(13935,), meta=np.ndarray>\n",
      "    latitude   (time) float32 117kB dask.array<chunksize=(13935,), meta=np.ndarray>\n",
      "    longitude  (time) float32 117kB dask.array<chunksize=(13935,), meta=np.ndarray>\n",
      "    speed      (time) float32 117kB dask.array<chunksize=(13935,), meta=np.ndarray>\n",
      "Attributes:\n",
      "    calibration_status:           True\n",
      "    cruise_name:                  HB1906\n",
      "    processing_software_name:     echofish\n",
      "    processing_software_time:     2025-04-18T22:55:13.207Z\n",
      "    processing_software_version:  25.4.4\n",
      "    sensor_name:                  EK60\n",
      "    ship_name:                    Henry_B._Bigelow\n",
      "    tile_size:                    512\n",
      "Target coordinates: Longitude: 293.454, Latitude: 41.088\n"
     ]
    }
   ],
   "execution_count": 39
  },
  {
   "cell_type": "markdown",
   "metadata": {},
   "source": "## Initializing the datasets"
  },
  {
   "cell_type": "markdown",
   "metadata": {},
   "source": [
    "This is where you begin your first section of material, loosely tied to your objectives stated up front. Tie together your notebook as a narrative, with interspersed Markdown text, images, and more as necessary,"
   ]
  },
  {
   "metadata": {
    "ExecuteTime": {
     "end_time": "2025-08-07T19:41:57.612293Z",
     "start_time": "2025-08-07T19:41:57.609915Z"
    }
   },
   "cell_type": "code",
   "source": [
    "def calculate_sv_mean(input_sv):\n",
    "    sv = 10. ** (input_sv / 10.)\n",
    "    return 10 * np.log10(np.mean(sv))"
   ],
   "outputs": [],
   "execution_count": 40
  },
  {
   "cell_type": "markdown",
   "metadata": {},
   "source": [
    "### Data Preprocessing\n",
    "Keep up the good work! A note, *try to avoid using code comments as narrative*, and instead let them only exist as brief clarifications where necessary."
   ]
  },
  {
   "metadata": {
    "ExecuteTime": {
     "end_time": "2025-08-07T19:42:34.071495Z",
     "start_time": "2025-08-07T19:42:34.069952Z"
    }
   },
   "cell_type": "code",
   "source": [
    "\n",
    "# baseline_timestamps = cruise.time.values\n",
    "# sst = np.full(shape=baseline_timestamps.shape, fill_value=np.nan)\n",
    "# df = pd.DataFrame(sst, columns=['sst'], index=baseline_timestamps)\n",
    "# df.loc[df.index[0],'sst'] = sst_day_before\n",
    "# df.loc[df.index[-1],'sst'] = sst_day_after\n",
    "# # print(int((len(df.index)/2)))\n",
    "# df.loc[df.index[int((len(df.index)/2))],'sst'] = sst_actual_day\n",
    "# df = df.interpolate(method='time')\n",
    "# print(df)"
   ],
   "outputs": [],
   "execution_count": 41
  },
  {
   "cell_type": "markdown",
   "metadata": {},
   "source": [
    "---"
   ]
  },
  {
   "metadata": {
    "ExecuteTime": {
     "end_time": "2025-08-07T19:43:07.429450Z",
     "start_time": "2025-08-07T19:43:07.375647Z"
    }
   },
   "cell_type": "code",
   "source": [
    "cruise['time_hour'] = cruise['time'].dt.floor('1h')\n",
    "\n",
    "# Step 2: Group by each hour\n",
    "grouped = cruise.groupby('time_hour')\n",
    "\n",
    "# Step 3: Extract each 1-hour Dataset as a chunk\n",
    "chunks = [group.drop_vars('time_hour') for _, group in grouped]"
   ],
   "outputs": [],
   "execution_count": 42
  },
  {
   "metadata": {
    "ExecuteTime": {
     "end_time": "2025-08-07T19:44:03.794454Z",
     "start_time": "2025-08-07T19:43:40.603722Z"
    }
   },
   "cell_type": "code",
   "source": [
    "results = []\n",
    "\n",
    "for chunk in chunks:\n",
    "    sv_data = chunk['Sv']\n",
    "    result = calculate_sv_mean(sv_data)\n",
    "\n",
    "    # Optional: get the first timestamp in the chunk as label\n",
    "    timestamp = pd.to_datetime(chunk['time'].values[0])\n",
    "    results.append((timestamp, result.compute()))"
   ],
   "outputs": [],
   "execution_count": 43
  },
  {
   "cell_type": "markdown",
   "metadata": {},
   "source": [
    "## Summary\n",
    "Add one final `---` marking the end of your body of content, and then conclude with a brief single paragraph summarizing at a high level the key pieces that were learned and how they tied to your objectives. Look to reiterate what the most important takeaways were.\n",
    "\n",
    "### What's next?\n",
    "Let Jupyter book tie this to the next (sequential) piece of content that people could move on to down below and in the sidebar. However, if this page uniquely enables your reader to tackle other nonsequential concepts throughout this book, or even external content, link to it here!"
   ]
  },
  {
   "metadata": {
    "ExecuteTime": {
     "end_time": "2025-08-07T19:44:42.550005Z",
     "start_time": "2025-08-07T19:44:42.548637Z"
    }
   },
   "cell_type": "code",
   "source": "# results[0][1].values",
   "outputs": [],
   "execution_count": 44
  },
  {
   "metadata": {
    "ExecuteTime": {
     "end_time": "2025-08-07T19:45:18.947531Z",
     "start_time": "2025-08-07T19:45:18.922834Z"
    }
   },
   "cell_type": "code",
   "source": [
    "baseline_timestamps = cruise.time.values\n",
    "sst = np.full(shape=baseline_timestamps.shape, fill_value=np.nan)\n",
    "df = pd.DataFrame(sst, columns=['sst'], index=baseline_timestamps)\n",
    "df.loc[df.index[0],'sst'] = sst_day_before\n",
    "df.loc[df.index[-1],'sst'] = sst_day_after\n",
    "# print(int((len(df.index)/2)))\n",
    "df.loc[df.index[int((len(df.index)/2))],'sst'] = sst_actual_day\n",
    "df = df.interpolate(method='time')\n",
    "print(df)"
   ],
   "outputs": [
    {
     "name": "stdout",
     "output_type": "stream",
     "text": [
      "                                     sst\n",
      "2019-10-16 15:00:00.283533056  15.480000\n",
      "2019-10-16 15:00:01.285254912  15.480012\n",
      "2019-10-16 15:00:02.286078976  15.480025\n",
      "2019-10-16 15:00:03.286853888  15.480037\n",
      "2019-10-16 15:00:04.287623936  15.480050\n",
      "...                                  ...\n",
      "2019-10-16 23:29:56.274977024  15.320098\n",
      "2019-10-16 23:29:57.276669952  15.320074\n",
      "2019-10-16 23:29:58.277357056  15.320049\n",
      "2019-10-16 23:29:59.279053056  15.320024\n",
      "2019-10-16 23:30:00.280752128  15.320000\n",
      "\n",
      "[29211 rows x 1 columns]\n"
     ]
    }
   ],
   "execution_count": 45
  },
  {
   "cell_type": "markdown",
   "metadata": {},
   "source": [
    "## Resources and references\n",
    "Finally, be rigorous in your citations and references as necessary. Give credit where credit is due. Also, feel free to link to relevant external material, further reading, documentation, etc. Then you're done! Give yourself a quick review, a high five, and send us a pull request. A few final notes:\n",
    " - `Kernel > Restart Kernel and Run All Cells...` to confirm that your notebook will cleanly run from start to finish\n",
    " - `Kernel > Restart Kernel and Clear All Outputs...` before committing your notebook, our machines will do the heavy lifting\n",
    " - Take credit! Provide author contact information if you'd like; if so, consider adding information here at the bottom of your notebook\n",
    " - Give credit! Attribute appropriate authorship for referenced code, information, images, etc.\n",
    " - Only include what you're legally allowed: **no copyright infringement or plagiarism**\n",
    " \n",
    "Thank you for your contribution!"
   ]
  }
 ],
 "metadata": {
  "kernelspec": {
   "display_name": "Python 3 (ipykernel)",
   "language": "python",
   "name": "python3"
  },
  "language_info": {
   "codemirror_mode": {
    "name": "ipython",
    "version": 3
   },
   "file_extension": ".py",
   "mimetype": "text/x-python",
   "name": "python",
   "nbconvert_exporter": "python",
   "pygments_lexer": "ipython3",
   "version": "3.10.13"
  },
  "nbdime-conflicts": {
   "local_diff": [
    {
     "diff": [
      {
       "diff": [
        {
         "key": 0,
         "op": "addrange",
         "valuelist": [
          "Python 3"
         ]
        },
        {
         "key": 0,
         "length": 1,
         "op": "removerange"
        }
       ],
       "key": "display_name",
       "op": "patch"
      }
     ],
     "key": "kernelspec",
     "op": "patch"
    }
   ],
   "remote_diff": [
    {
     "diff": [
      {
       "diff": [
        {
         "key": 0,
         "op": "addrange",
         "valuelist": [
          "Python3"
         ]
        },
        {
         "key": 0,
         "length": 1,
         "op": "removerange"
        }
       ],
       "key": "display_name",
       "op": "patch"
      }
     ],
     "key": "kernelspec",
     "op": "patch"
    }
   ]
  },
  "toc-autonumbering": false
 },
 "nbformat": 4,
 "nbformat_minor": 4
}
