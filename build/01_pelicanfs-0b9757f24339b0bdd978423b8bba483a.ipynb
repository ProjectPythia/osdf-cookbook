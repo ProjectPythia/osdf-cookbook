{
 "cells": [
  {
   "cell_type": "markdown",
   "metadata": {},
   "source": [
    "# Using PelicanFS via FSSpec to Access Data on the OSDF"
   ]
  },
  {
   "cell_type": "markdown",
   "metadata": {},
   "source": []
  },
  {
   "cell_type": "markdown",
   "metadata": {},
   "source": [
    "---"
   ]
  },
  {
   "cell_type": "markdown",
   "metadata": {},
   "source": [
    "## Overview\n",
    "Now that you've learned about the OSDF, you may be wondering how you can easily access that data from within a notebook using python.\n",
    "\n",
    "You can do this using `pelicanfs`, which is an `FSSPec` implementation of the Pelican client\n",
    "\n",
    "### This notebook will contain:\n",
    "\n",
    "1. A brief explanation of FSSPec and PelicanFS\n",
    "1. A real-world example using FSSPec, Pelican, XArray, and Zarr\n",
    "1. Other common access patterns\n",
    "1. FAQs"
   ]
  },
  {
   "cell_type": "markdown",
   "metadata": {},
   "source": [
    "## Prerequisites\n",
    "\n",
    "To better understand this notebook, please familiarize yourself with the following concepts:\n",
    "\n",
    "| Concepts | Importance | Notes |\n",
    "| --- | --- | --- |\n",
    "| [Intro to OSDF](http://projectpythia.org/osdf-cookbook/notebooks/osdf-intro/) | Necessary | |\n",
    "| [Understanding of XArray](https://foundations.projectpythia.org/core/xarray/) | Helpful | To better understand the example workflow |\n",
    "| [Overview of FSSpec](https://filesystem-spec.readthedocs.io/en/latest/) | Helpful | To better understand the FSSpec library |\n",
    "\n",
    "- **Time to learn**: 20-30 minutes"
   ]
  },
  {
   "cell_type": "markdown",
   "metadata": {},
   "source": [
    "---"
   ]
  },
  {
   "cell_type": "markdown",
   "metadata": {},
   "source": [
    "## Imports"
   ]
  },
  {
   "cell_type": "code",
   "execution_count": null,
   "metadata": {},
   "outputs": [],
   "source": [
    "import xarray as xr\n",
    "import numpy as np\n",
    "import matplotlib.pyplot as plt\n",
    "import cartopy.crs as ccrs\n",
    "import cartopy.feature as cfeature\n",
    "import metpy.calc as mpcalc\n",
    "from metpy.units import units\n",
    "import fsspec"
   ]
  },
  {
   "cell_type": "markdown",
   "metadata": {},
   "source": [
    "## What are PelicanFS and FSSPec?\n",
    "\n",
    "First, let's understand PelicanFS and how it integrates with FSSpec"
   ]
  },
  {
   "cell_type": "markdown",
   "metadata": {},
   "source": [
    "### FSSPec\n",
    "\n",
    "FileSystem Spec (fsspec) is a python library which endeavors to provide a unified interface to many different storage backends. This includes, but is not limited to, posix, https, and s3. It's used by various data processing libraries such as `xarray`, `pandas`, and `intake`, just to name a few.\n",
    "\n",
    "To learn more about FSSPec, visit its [information page](https://filesystem-spec.readthedocs.io/en/latest/)\n",
    "\n",
    "#### Protocols\n",
    "\n",
    "FSSpec differentiates between different interfaces by using a protocol. When you give a path to FSSPec, it determine the which interface to use by the 'protocol' that's included in the path.  For example, a path which starts with `https:` indicates to FSSpec to use its `http` interface. This allows users to just user the top level FSSPec library without needing to know the specifics of the underlying interface.\n",
    "\n",
    "### PelicanFS\n",
    "\n",
    "PelicanFS is an implementation of FSSpec which introduces two new protocols to FSSpec: `pelican` and `osdf`. The `pelican` protocol specifies for FSSpec to the use the PelicanFS implementation access data via a Pelican Federation. To use it, you must specify the federation root. A pelican fsspec path would look like:\n",
    "\n",
    "```pelican://<federation-root>/<namespace-path>```\n",
    "\n",
    "The `osdf` protocol is a specific instance of the `pelican` protocol that knows how to access the OSDF. A path using the `osdf` protocol **should not** provide the federation root. An osdf fsspec path would look like:\n",
    "\n",
    "```osdf:///<namespace-path>```\n"
   ]
  },
  {
   "cell_type": "markdown",
   "metadata": {},
   "source": [
    ":::{note}\n",
    "Notice the three '/' after \"osdf:\", this is required for a properly formed osdf path\n",
    ":::"
   ]
  },
  {
   "cell_type": "markdown",
   "metadata": {},
   "source": [
    "If you'd like to understand more about how pelican works, check out the documentation [here](https://docs.pelicanplatform.org/about-pelican/core-concepts)\n",
    "\n",
    "### Putting it all together\n",
    "\n",
    "What does this mean in practice?\n",
    "\n",
    "In an environment where pelicanfs is installed, then if you want to access data from the OSDF using fsspec or any library which uses fsspec, all that you need to do is give it the proper path with the osdf protocol to fsspec, and fsspec and pelicanfs will do all the work to resolve it behind the scenes.\n",
    "\n"
   ]
  },
  {
   "cell_type": "markdown",
   "metadata": {},
   "source": [
    "---"
   ]
  },
  {
   "cell_type": "markdown",
   "metadata": {},
   "source": [
    "## A PelicanFS Example using Real Data\n",
    "\n",
    "The following is an example that shows how pelicanfs works on real world data using FSSPec and XArray to access Zarr data from AWS.\n",
    "\n",
    "This portion of the notebook is based off of the [Project Pythia HRRR AWS Cookbook](https://projectpythia.org/HRRR-AWS-cookbook/)"
   ]
  },
  {
   "cell_type": "markdown",
   "metadata": {},
   "source": [
    "### Setting the Proper Path\n",
    "The data for this tutorial is part of AWS Open Data, hosted in the `us-west-2` region. The OSDF provides access to that region using the `aws-opendata/us-west-1` namespace.\n",
    "\n",
    "Let's first create a path which uses the `osdf` protocol."
   ]
  },
  {
   "cell_type": "code",
   "execution_count": null,
   "metadata": {},
   "outputs": [],
   "source": [
    "# Set the date, hour, variable, and level for the HRRR data\n",
    "date = '20211016'\n",
    "hour = '21'\n",
    "var = 'TMP'\n",
    "level = '2m_above_ground'\n",
    "\n",
    "# Construct file paths for the Zarr datasets using the osdf protocol\n",
    "namespace_file1 = f'osdf:///aws-opendata/us-west-1/hrrrzarr/sfc/{date}/{date}_{hour}z_anl.zarr/{level}/{var}/{level}/'\n",
    "namespace_file2 = f'osdf:///aws-opendata/us-west-1/hrrrzarr/sfc/{date}/{date}_{hour}z_anl.zarr/{level}/{var}/'"
   ]
  },
  {
   "cell_type": "markdown",
   "metadata": {},
   "source": [
    "### Using FSSpec to access the data\n",
    "\n",
    "Now we can access the data using XArray like normal. The two files will accessed using fsspec's `get_mapper` function, which knows to use PelicanFS because we created the path using the `osdf` protocol."
   ]
  },
  {
   "cell_type": "code",
   "execution_count": null,
   "metadata": {},
   "outputs": [],
   "source": [
    "# Get mappers for the Zarr datasets\n",
    "\n",
    "file1 = fsspec.get_mapper(namespace_file1)\n",
    "file2 = fsspec.get_mapper(namespace_file2)\n",
    "\n",
    "# Open the datasets\n",
    "ds = xr.open_mfdataset([file1, file2], engine='zarr', decode_timedelta=True)\n",
    "\n",
    "# Display the dataset\n",
    "ds"
   ]
  },
  {
   "cell_type": "markdown",
   "metadata": {},
   "source": [
    "### Continue the workflow\n",
    "As you can see, xarray streamed the data correctly into the datasets. To prove the workflow works, the next cell continues the computation and generates two plots. This tutorial will not go in depth as to what this code is accomplishing.\n",
    "\n",
    "If you'd like to know more about the following workflow, please refer to the [Project Pythia HRRR AWS Cookbook](https://projectpythia.org/HRRR-AWS-cookbook/)"
   ]
  },
  {
   "cell_type": "code",
   "execution_count": null,
   "metadata": {},
   "outputs": [],
   "source": [
    "# Define coordinates for projection\n",
    "lon1 = -97.5\n",
    "lat1 = 38.5\n",
    "slat = 38.5\n",
    "\n",
    "# Define the Lambert Conformal projection\n",
    "projData = ccrs.LambertConformal(\n",
    "    central_longitude=lon1,\n",
    "    central_latitude=lat1,\n",
    "    standard_parallels=[slat, slat],\n",
    "    globe=ccrs.Globe(\n",
    "        semimajor_axis=6371229,\n",
    "        semiminor_axis=6371229\n",
    "    )\n",
    ")\n",
    "\n",
    "# Display dataset coordinates\n",
    "ds.coords\n",
    "\n",
    "# Extract temperature data\n",
    "airTemp = ds.TMP\n",
    "\n",
    "# Display the temperature data\n",
    "airTemp\n",
    "\n",
    "# Convert temperature units to Celsius\n",
    "airTemp = airTemp.metpy.convert_units('degC')\n",
    "\n",
    "# Display the converted temperature data\n",
    "airTemp\n",
    "\n",
    "# Extract projection coordinates\n",
    "x = airTemp.projection_x_coordinate\n",
    "y = airTemp.projection_y_coordinate\n",
    "\n",
    "# Plot temperature data\n",
    "airTemp.plot(figsize=(11, 8.5))\n",
    "\n",
    "# Compute minimum and maximum temperatures\n",
    "minTemp = airTemp.min().compute()\n",
    "maxTemp = airTemp.max().compute()\n",
    "\n",
    "# Display minimum and maximum temperature values\n",
    "minTemp.values, maxTemp.values\n",
    "\n",
    "# Define contour levels\n",
    "fint = np.arange(np.floor(minTemp.values), np.ceil(maxTemp.values) + 2, 2)\n",
    "\n",
    "# Define plot bounds and resolution\n",
    "latN = 50.4\n",
    "latS = 24.25\n",
    "lonW = -123.8\n",
    "lonE = -71.2\n",
    "res = '50m'\n",
    "\n",
    "# Create a figure and axis with projection\n",
    "fig = plt.figure(figsize=(18, 12))\n",
    "ax = plt.subplot(1, 1, 1, projection=projData)\n",
    "ax.set_extent([lonW, lonE, latS, latN], crs=ccrs.PlateCarree())\n",
    "ax.add_feature(cfeature.COASTLINE.with_scale(res))\n",
    "ax.add_feature(cfeature.STATES.with_scale(res))\n",
    "\n",
    "# Add the title\n",
    "tl1 = 'HRRR 2m temperature ($^\\\\circ$C)'\n",
    "tl2 = f'Analysis valid at: {hour}00 UTC {date}'\n",
    "plt.title(f'{tl1}\\n{tl2}', fontsize=16)\n",
    "\n",
    "# Contour fill\n",
    "CF = ax.contourf(x, y, airTemp, levels=fint, cmap=plt.get_cmap('coolwarm'))\n",
    "\n",
    "# Make a colorbar for the ContourSet returned by the contourf call\n",
    "cbar = fig.colorbar(CF, shrink=0.5)\n",
    "cbar.set_label(r'2m Temperature ($^\\circ$C)', size='large')\n",
    "\n",
    "# Show the plot\n",
    "plt.show()"
   ]
  }
 ],
 "metadata": {
  "kernelspec": {
   "display_name": "Python 3 (ipykernel)",
   "language": "python",
   "name": "python3"
  },
  "language_info": {
   "codemirror_mode": {
    "name": "ipython",
    "version": 3
   },
   "file_extension": ".py",
   "mimetype": "text/x-python",
   "name": "python",
   "nbconvert_exporter": "python",
   "pygments_lexer": "ipython3",
   "version": "3.12.8"
  },
  "nbdime-conflicts": {
   "local_diff": [
    {
     "diff": [
      {
       "diff": [
        {
         "key": 0,
         "op": "addrange",
         "valuelist": [
          "Python 3"
         ]
        },
        {
         "key": 0,
         "length": 1,
         "op": "removerange"
        }
       ],
       "key": "display_name",
       "op": "patch"
      }
     ],
     "key": "kernelspec",
     "op": "patch"
    }
   ],
   "remote_diff": [
    {
     "diff": [
      {
       "diff": [
        {
         "key": 0,
         "op": "addrange",
         "valuelist": [
          "Python3"
         ]
        },
        {
         "key": 0,
         "length": 1,
         "op": "removerange"
        }
       ],
       "key": "display_name",
       "op": "patch"
      }
     ],
     "key": "kernelspec",
     "op": "patch"
    }
   ]
  },
  "toc-autonumbering": false
 },
 "nbformat": 4,
 "nbformat_minor": 4
}
