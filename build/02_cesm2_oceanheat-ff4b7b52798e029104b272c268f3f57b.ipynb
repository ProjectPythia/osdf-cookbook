{
 "cells": [
  {
   "cell_type": "markdown",
   "metadata": {},
   "source": [
    "# Calculate Surface Ocean Heat using CESM2 LENS data "
   ]
  },
  {
   "cell_type": "markdown",
   "metadata": {},
   "source": [
    "---"
   ]
  },
  {
   "cell_type": "markdown",
   "metadata": {},
   "source": [
    "## Overview\n",
    "- This notebook is an adpation of a [workflow](https://gallery.pangeo.io/repos/NCAR/notebook-gallery/notebooks/Run-Anywhere/Ocean-Heat-Content/OHC_tutorial.html) in the NCAR gallery of the Pangeo collection\n",
    "- This notebook illustrates how to compute surface ocean heat content using potential temperature data from [CESM2 Large Ensemble Dataset](https://www.cesm.ucar.edu/community-projects/lens2) (Community Earth System Model 2) hosted on NCAR's RDA.\n",
    "- This data is open access and is accessed via OSDF using the pelicanFS package and demonstrates how you can stream data from NCAR's RDA\n",
    "- Please refer to the first chapter of this cookbook to learn more about OSDF, pelican or pelicanFS\n"
   ]
  },
  {
   "cell_type": "markdown",
   "metadata": {},
   "source": [
    "## Prerequisites\n",
    "| Concepts | Importance | Notes |\n",
    "| --- | --- | --- |\n",
    "| [Intro to Intake-ESM](https://foundations.projectpythia.org/core/cartopy/cartopy) | Necessary | Used for searching CMIP6 data |\n",
    "| [Understanding of Zarr](https://zarr.dev/) | Helpful | Familiarity with metadata structure |\n",
    "| [Matplotlib](https://foundations.projectpythia.org/core/matplotlib/) | Helpful | Package used for plotting|\n",
    "| [PelicanFS](https://projectpythia.org/osdf-cookbook/notebooks/pelicanfs/) | Necessary | The python package used to stream data in this notebook |\n",
    "| OSDF| Helpful | OSDF is used to stream data in this notebook |\n",
    "\n",
    "- **Time to learn**: 20 mins"
   ]
  },
  {
   "cell_type": "markdown",
   "metadata": {},
   "source": [
    "---"
   ]
  },
  {
   "cell_type": "markdown",
   "metadata": {},
   "source": [
    "## Imports"
   ]
  },
  {
   "cell_type": "code",
   "execution_count": null,
   "metadata": {},
   "outputs": [],
   "source": [
    "import intake\n",
    "import numpy as np\n",
    "import pandas as pd\n",
    "import xarray as xr\n",
    "import seaborn as sns\n",
    "import re\n",
    "import matplotlib.pyplot as plt\n",
    "import dask\n",
    "from dask.distributed import LocalCluster\n",
    "import pelicanfs \n",
    "import cf_units as cf"
   ]
  },
  {
   "cell_type": "code",
   "execution_count": null,
   "metadata": {},
   "outputs": [],
   "source": [
    "# Load Catalog URL\n",
    "cat_url = 'https://stratus.rda.ucar.edu/d010092/catalogs/d010092-osdf-zarr-gdex.json'"
   ]
  },
  {
   "cell_type": "markdown",
   "metadata": {},
   "source": [
    "## Set up local dask cluster "
   ]
  },
  {
   "cell_type": "markdown",
   "metadata": {},
   "source": [
    "Before we do any computation let us first set up a local cluster using dask"
   ]
  },
  {
   "cell_type": "code",
   "execution_count": null,
   "metadata": {},
   "outputs": [],
   "source": [
    "cluster = LocalCluster()          \n",
    "client = cluster.get_client()"
   ]
  },
  {
   "cell_type": "code",
   "execution_count": null,
   "metadata": {},
   "outputs": [],
   "source": [
    "# Scale the cluster\n",
    "n_workers = 5\n",
    "cluster.scale(n_workers)\n",
    "cluster"
   ]
  },
  {
   "cell_type": "markdown",
   "metadata": {},
   "source": [
    "## Data Loading\n",
    "### Load CESM2 LENS data from NCAR's RDA\n",
    "- Load CESM2 LENS zarr data from RDA using an intake-ESM catalog that has OSDF links\n",
    "- For more details regarding the dataset. See, https://rda.ucar.edu/datasets/d010092/#"
   ]
  },
  {
   "cell_type": "code",
   "execution_count": null,
   "metadata": {},
   "outputs": [],
   "source": [
    "col = intake.open_esm_datastore(cat_url)\n",
    "col"
   ]
  },
  {
   "cell_type": "code",
   "execution_count": null,
   "metadata": {},
   "outputs": [],
   "source": [
    "# Uncomment this line to see all the variables\n",
    "# cesm_cat.df['variable'].values"
   ]
  },
  {
   "cell_type": "code",
   "execution_count": null,
   "metadata": {},
   "outputs": [],
   "source": [
    "cesm_temp = col.search(variable ='TEMP', frequency ='monthly')\n",
    "cesm_temp"
   ]
  },
  {
   "cell_type": "code",
   "execution_count": null,
   "metadata": {},
   "outputs": [],
   "source": [
    "cesm_temp.df['path'].values"
   ]
  },
  {
   "cell_type": "markdown",
   "metadata": {},
   "source": [
    ":::{note}\n",
    "Note that all the file paths start with https://data-osdf.rda.ucar.edu indicating that the data will be streamed via OSDF"
   ]
  },
  {
   "cell_type": "code",
   "execution_count": null,
   "metadata": {},
   "outputs": [],
   "source": [
    "dsets_cesm = cesm_temp.to_dataset_dict()"
   ]
  },
  {
   "cell_type": "code",
   "execution_count": null,
   "metadata": {},
   "outputs": [],
   "source": [
    "dsets_cesm.keys()"
   ]
  },
  {
   "cell_type": "code",
   "execution_count": null,
   "metadata": {},
   "outputs": [],
   "source": [
    "historical       = dsets_cesm['ocn.historical.monthly.cmip6']\n",
    "future_smbb      = dsets_cesm['ocn.ssp370.monthly.smbb']\n",
    "future_cmip6     = dsets_cesm['ocn.ssp370.monthly.cmip6']"
   ]
  },
  {
   "cell_type": "markdown",
   "metadata": {},
   "source": [
    "### Change units"
   ]
  },
  {
   "cell_type": "code",
   "execution_count": null,
   "metadata": {},
   "outputs": [],
   "source": [
    "orig_units = cf.Unit(historical.z_t.attrs['units'])\n",
    "orig_units"
   ]
  },
  {
   "cell_type": "code",
   "execution_count": null,
   "metadata": {},
   "outputs": [],
   "source": [
    "def change_units(ds, variable_str, variable_bounds_str, target_unit_str):\n",
    "    orig_units = cf.Unit(ds[variable_str].attrs['units'])\n",
    "    target_units = cf.Unit(target_unit_str)\n",
    "    variable_in_new_units = xr.apply_ufunc(orig_units.convert, ds[variable_bounds_str], target_units, dask='parallelized', output_dtypes=[ds[variable_bounds_str].dtype])\n",
    "    return variable_in_new_units"
   ]
  },
  {
   "cell_type": "code",
   "execution_count": null,
   "metadata": {},
   "outputs": [],
   "source": [
    "depth_levels_in_m = change_units(historical, 'z_t', 'z_t', 'm')\n",
    "hist_temp_in_degK = change_units(historical, 'TEMP', 'TEMP', 'degK')\n",
    "fut_cmip6_temp_in_degK = change_units(future_cmip6, 'TEMP', 'TEMP', 'degK')\n",
    "fut_smbb_temp_in_degK = change_units(future_smbb, 'TEMP', 'TEMP', 'degK')\n",
    "#\n",
    "hist_temp_in_degK  = hist_temp_in_degK.assign_coords(z_t=(\"z_t\", depth_levels_in_m['z_t'].data))\n",
    "hist_temp_in_degK[\"z_t\"].attrs[\"units\"] = \"m\"\n",
    "hist_temp_in_degK"
   ]
  },
  {
   "cell_type": "code",
   "execution_count": null,
   "metadata": {},
   "outputs": [],
   "source": [
    "depth_levels_in_m.isel(z_t=slice(0, -1))"
   ]
  },
  {
   "cell_type": "markdown",
   "metadata": {},
   "source": [
    "- Compute depth level deltas using the difference of z_t levels"
   ]
  },
  {
   "cell_type": "code",
   "execution_count": null,
   "metadata": {},
   "outputs": [],
   "source": [
    "depth_level_deltas = depth_levels_in_m.isel(z_t=slice(1, None)).values - depth_levels_in_m.isel(z_t=slice(0, -1)).values\n",
    "# Optionally, if you want to keep it as an xarray DataArray, re-wrap the result\n",
    "depth_level_deltas = xr.DataArray(depth_level_deltas, dims=[\"z_t\"], coords={\"z_t\": depth_levels_in_m.z_t.isel(z_t=slice(0, -1))})\n",
    "depth_level_deltas  "
   ]
  },
  {
   "cell_type": "markdown",
   "metadata": {},
   "source": [
    "# Compute Ocean Heat content for ocean surface\n",
    "- Ocean surface is considered to be the top 100m\n",
    "- The formula for this is: $$ H = \\rho C \\int_0^z T(z) dz $$\n",
    "\n",
    "\n",
    "Where H is ocean heat content, the value we are trying to calculate,\n",
    "\n",
    "$\\rho$ is the density of sea water, $1026 kg/m^3$  ,\n",
    "\n",
    "$C$ is the specific heat of sea water, $3990 J/(kg K)$  ,\n",
    "\n",
    "$z$ is the depth limit of the calculation in meters,\n",
    "\n",
    "and $T(z)$ is the temperature at each depth in degrees Kelvin."
   ]
  },
  {
   "cell_type": "code",
   "execution_count": null,
   "metadata": {},
   "outputs": [],
   "source": [
    "def calc_ocean_heat(delta_level, temperature):\n",
    "    rho = 1026 #kg/m^3\n",
    "    c_p = 3990 #J/(kg K)\n",
    "    weighted_temperature = delta_level * temperature\n",
    "    heat = weighted_temperature.sum(dim=\"z_t\")*rho*c_p\n",
    "    return heat"
   ]
  },
  {
   "cell_type": "code",
   "execution_count": null,
   "metadata": {},
   "outputs": [],
   "source": [
    "# Remember that the coordinate z_t still has values in cm\n",
    "hist_temp_ocean_surface = hist_temp_in_degK.where(hist_temp_in_degK['z_t'] < 1e4,drop=True)\n",
    "hist_temp_ocean_surface"
   ]
  },
  {
   "cell_type": "code",
   "execution_count": null,
   "metadata": {},
   "outputs": [],
   "source": [
    "depth_level_deltas_surface = depth_level_deltas.where(depth_level_deltas['z_t'] <1e4, drop= True)\n",
    "depth_level_deltas_surface"
   ]
  },
  {
   "cell_type": "code",
   "execution_count": null,
   "metadata": {},
   "outputs": [],
   "source": [
    "hist_ocean_heat = calc_ocean_heat(depth_level_deltas_surface,hist_temp_ocean_surface)\n",
    "hist_ocean_heat"
   ]
  },
  {
   "cell_type": "markdown",
   "metadata": {},
   "source": [
    "### Plot Ocean Heat"
   ]
  },
  {
   "cell_type": "markdown",
   "metadata": {},
   "source": [
    ":::{attention}\n",
    " Has the surface ocean heat content increased with time due to Global Warming ? \n",
    " Let us plot the difference between the annual, ensemble mean heat content between the years 2014 and 1850 to check!\n",
    ":::"
   ]
  },
  {
   "cell_type": "code",
   "execution_count": null,
   "metadata": {},
   "outputs": [],
   "source": [
    "%%time\n",
    "# Compute annual and ensemble mean\n",
    "hist_oceanheat_ann_mean = hist_ocean_heat.mean('member_id').groupby('time.year').mean()\n",
    "hist_oceanheat_ann_mean "
   ]
  },
  {
   "cell_type": "code",
   "execution_count": null,
   "metadata": {},
   "outputs": [],
   "source": [
    "hist_oceanheat_ano = \\\n",
    "hist_oceanheat_ann_mean.sel(year=2014) - hist_oceanheat_ann_mean.sel(year=1850)"
   ]
  },
  {
   "cell_type": "code",
   "execution_count": null,
   "metadata": {},
   "outputs": [],
   "source": [
    "%%time\n",
    "hist_oceanheat_ano.plot()"
   ]
  },
  {
   "cell_type": "markdown",
   "metadata": {},
   "source": [
    "Indeed! The surface ocean is trapping heat as the globe warms! "
   ]
  },
  {
   "cell_type": "markdown",
   "metadata": {},
   "source": [
    "---"
   ]
  },
  {
   "cell_type": "markdown",
   "metadata": {},
   "source": [
    "## Summary\n",
    "In this notebook we used sea temperature data from the Community Earth System Model (CESM2) Large Ensemble dataset to compute surface ocean heat and convince ourselves that the surface ocean is trapping extra heat as the globe warms. We used an intake-ESM catalog backed by pelican links to stream data from NCAR's Research Data Archive via NCAR's OSDF origin!\n",
    "\n",
    "### What's next?\n",
    "In the next notebook, we will see how to load data from multiple OSDF origins into a workflow. We will stream CMIP6 model data from AWS and observational data from RDA."
   ]
  },
  {
   "cell_type": "markdown",
   "metadata": {},
   "source": [
    "## Resources and references\n",
    "- Original [notebook](https://gallery.pangeo.io/repos/NCAR/notebook-gallery/notebooks/Run-Anywhere/Ocean-Heat-Content/OHC_tutorial.html) on the pangeo NCAR gallery\n",
    "- [CESM2 Large Ensemble Dataset](https://www.cesm.ucar.edu/community-projects/lens2) (Community Earth System Model 2) hosted on NCAR's RDA."
   ]
  }
 ],
 "metadata": {
  "kernelspec": {
   "display_name": "Python 3 (ipykernel)",
   "language": "python",
   "name": "python3"
  },
  "language_info": {
   "codemirror_mode": {
    "name": "ipython",
    "version": 3
   },
   "file_extension": ".py",
   "mimetype": "text/x-python",
   "name": "python",
   "nbconvert_exporter": "python",
   "pygments_lexer": "ipython3",
   "version": "3.12.8"
  },
  "nbdime-conflicts": {
   "local_diff": [
    {
     "diff": [
      {
       "diff": [
        {
         "key": 0,
         "op": "addrange",
         "valuelist": [
          "Python 3"
         ]
        },
        {
         "key": 0,
         "length": 1,
         "op": "removerange"
        }
       ],
       "key": "display_name",
       "op": "patch"
      }
     ],
     "key": "kernelspec",
     "op": "patch"
    }
   ],
   "remote_diff": [
    {
     "diff": [
      {
       "diff": [
        {
         "key": 0,
         "op": "addrange",
         "valuelist": [
          "Python3"
         ]
        },
        {
         "key": 0,
         "length": 1,
         "op": "removerange"
        }
       ],
       "key": "display_name",
       "op": "patch"
      }
     ],
     "key": "kernelspec",
     "op": "patch"
    }
   ]
  },
  "toc-autonumbering": false
 },
 "nbformat": 4,
 "nbformat_minor": 4
}
