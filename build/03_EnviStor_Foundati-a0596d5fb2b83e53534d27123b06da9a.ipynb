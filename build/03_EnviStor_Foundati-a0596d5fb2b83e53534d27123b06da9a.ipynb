{
 "cells": [
  {
   "cell_type": "markdown",
   "id": "ff23a7f0",
   "metadata": {},
   "source": [
    "# Exploring Salinity Patterns in South Florida Coastal Waters"
   ]
  },
  {
   "cell_type": "markdown",
   "id": "83e66dd7",
   "metadata": {},
   "source": [
    "This notebook introduces a user-facing science workflow that explores **salinity patterns in South Florida** using curated buoy data published through the **EnviStor smart data pipeline** and made accessible via **PelicanFS** as part of the **Open Science Data Federation (OSDF)**.\n",
    "\n",
    "EnviStor is an AI-assisted, modular data pipeline developed at Florida International University (FIU) to process and publish environmental datasets. It automates tasks like file type detection, metadata generation, geospatial transformations, and dataset publication. For this use case, EnviStor ingested buoy data, processed and cleaned it, and published it through the OSDF federation, making it available to science users via PelicanFS.\n",
    "\n",
    "```{image} ../thumbnails/FIU_EnviStor_logo.png\n",
    ":alt: EnviStor logo\n",
    ":width: 300px\n",
    "```"
   ]
  },
  {
   "cell_type": "markdown",
   "id": "9c4ea503-20f8-4e92-80be-dc8d8a3137f2",
   "metadata": {},
   "source": [
    "---"
   ]
  },
  {
   "cell_type": "markdown",
   "id": "ff894b54-0ef8-46bd-9fca-eb6dbdbaa71e",
   "metadata": {},
   "source": [
    "## Overview\n",
    "This notebook introduces a real-world scientific workflow built around the question: **\"What are the salinity patterns in South Florida?\"** Using curated data from FIU's buoy network—processed by the **EnviStor smart pipeline** and accessed through **OSDF** using **PelicanFS**, we explore how environmental datasets can be made reproducible, discoverable, and usable by domain scientists.\n",
    "\n",
    "Below is a breakdown of what this notebook covers:\n",
    "\n",
    "**1. What is Salinity?**\n",
    "A brief introduction to salinity, its units, and its role in coastal science.\n",
    "\n",
    "**2. Why South Florida?**\n",
    "Context around why this region is important for salinity monitoring, including environmental and societal implications.\n",
    "\n",
    "**3. About the Dataset**\n",
    "Description of the FIU CREST buoy network, the variables collected, and how the data is prepared through EnviStor.\n",
    "\n",
    "**4. Data Access with PelicanFS**\n",
    "Explanation of how the dataset is accessed directly from OSDF using PelicanFS, and how that supports open science.\n",
    "\n",
    "**5. Research Question**\n",
    "A clear framing of the central question that will be explored in the analysis notebook.\n",
    "\n",
    "**6. What’s Next?**\n",
    "A preview of what readers will do in the second notebook: loading, analyzing, and visualizing the data.\n",
    "\n",
    "By the end of this notebook, the reader should understand the scientific motivation, the data context, and how curated environmental data made available via OSDF can be leveraged in reproducible Jupyter-based workflows.\n"
   ]
  },
  {
   "cell_type": "markdown",
   "id": "e1847c2f-e3df-4c26-b60b-c419f8a661ba",
   "metadata": {},
   "source": [
    "## Prerequisites\n",
    "\n",
    "To fully understand the context and content of this notebook, readers should be familiar with a few foundational concepts and tools. While this notebook itself is explanatory and doesn’t run any code, it introduces ideas and data structures that are implemented in the accompanying technical notebook.\n",
    "\n",
    "Below is a table of key concepts and how important they are for this material:\n",
    "\n",
    "\n",
    "| Concepts | Importance | Notes |\n",
    "| --- | --- | --- |\n",
    "| [What is Salinity?](https://www.epa.gov/national-aquatic-resource-surveys/indicators-salinity) | Necessary |Core environmental concept used in the notebook|\n",
    "| [Intro to Buoy-based monitoring](https://atlas-scientific.com/blog/what-are-water-quality-monitoring-buoys) | Helpful | Understanding how buoy data is collected |\n",
    "| [PelicanFS Overview](https://docs.pelicanplatform.org/about-pelican) | Necessary | Explains how the curated data is accessed from OSDF|\n",
    "| [What is OSDF](https://osg-htc.org/services/osdf.html) | Helpful | High-level context for how EnviStor data is shared|\n",
    "\n",
    "- **Time to learn**: 20-30 minutes. (~5–10 minutes per external concept; extra time optional for those new to Pelican/OSDF)\n"
   ]
  },
  {
   "cell_type": "markdown",
   "id": "38164dc4-4afa-4588-b3a2-f1d1d07e4538",
   "metadata": {},
   "source": [
    "---"
   ]
  },
  {
   "cell_type": "markdown",
   "id": "d76c11ad",
   "metadata": {},
   "source": [
    "## What is Salinity?\n",
    "\n",
    "**Salinity** measures how much salt is dissolved in water, typically in **Practical Salinity Units (PSU)**. \n",
    "\n",
    "Salinity influences ocean circulation, marine life, and freshwater availability. In coastal regions like South Florida, it’s a key indicator of environmental change, particularly for detecting **saltwater intrusion** into freshwater systems."
   ]
  },
  {
   "cell_type": "markdown",
   "id": "027d1326",
   "metadata": {},
   "source": [
    "## Why South Florida?\n",
    "\n",
    "South Florida is particularly sensitive to salinity changes due to its mix of freshwater inflows, tidal dynamics, sea level rise, and storm surge events. Monitoring salinity helps scientists detect:\n",
    "- Saltwater intrusion into aquifers\n",
    "- Seasonal or storm-related shifts in water quality\n",
    "- Long-term climate-driven changes"
   ]
  },
  {
   "cell_type": "markdown",
   "id": "ccf17d7f",
   "metadata": {},
   "source": [
    "## About the Dataset\n",
    "\n",
    "This dataset comes from FIU’s **CREST buoy network**, which continuously measures water quality parameters including salinity, temperature, turbidity, and more.\n",
    "\n",
    "For this analysis, we selected three stations:\n",
    "- **Buoy 2**: NW Biscayne Bay\n",
    "- **Buoy 3**: Haulover Inlet\n",
    "- **Buoy 3-2**: Little River\n",
    "\n",
    "These datasets were processed through the **EnviStor smart pipeline**, which cleaned, standardized, and published them into the **Open Science Data Federation (OSDF)**. The data is now directly accessible using **PelicanFS**, a high-performance data access layer."
   ]
  },
  {
   "cell_type": "markdown",
   "id": "2e61f416",
   "metadata": {},
   "source": [
    "## Data Access with PelicanFS\n",
    "\n",
    "The curated data is available in the `/envistor` namespace on OSDF. We will access it directly in the next notebook using **PelicanFS**, a high-performance file system interface developed by the OSG and Pathfinders community.\n",
    "\n",
    "No pre-downloaded files are needed — all data will be loaded live from OSDF via PelicanFS."
   ]
  },
  {
   "cell_type": "markdown",
   "id": "70b202da-294d-4620-9d4b-910fbde213f8",
   "metadata": {},
   "source": [
    ":::{note}\n",
    "If you're running this notebook as part of the Pythia Cook-off, **PelicanFS is already set up** in the environment — no extra steps are needed.\n",
    "\n",
    "However, if you're adapting this workflow for use outside the Cook-off platform, you'll need to install and mount **PelicanFS** on your system to access data from OSDF. For instructions, see the [Pelican documentation](https://github.com/PelicanPlatform/pelicanfs).\n",
    ":::\n"
   ]
  },
  {
   "cell_type": "markdown",
   "id": "ab119f9e",
   "metadata": {},
   "source": [
    "## Research Question\n",
    "\n",
    "We aim to explore:  \n",
    "**\"How does water salinity vary across time and space in South Florida coastal waters?\"**\n",
    "\n",
    "This question is central to understanding environmental patterns related to:\n",
    "\n",
    "- Seasonality (e.g., wet vs. dry season)\n",
    "- Freshwater discharge (e.g., from canals or rivers)\n",
    "- Saltwater intrusion (e.g., due to sea level rise or storm surge)\n",
    "\n",
    "To answer it, we will compare salinity data collected from three distinct coastal monitoring stations (NW Biscayne Bay, Haulover Inlet, and Little River) over a multi-month period. These stations span both urban and natural areas, helping us examine spatial variation.\n",
    "\n",
    "By plotting and analyzing this data over time, we can begin to identify how salinity responds to both natural processes and human-driven impacts — providing insights useful for coastal management and long-term monitoring.\n",
    "\n"
   ]
  },
  {
   "cell_type": "markdown",
   "id": "42e813c9-1716-446b-82f5-4baa3220acbd",
   "metadata": {},
   "source": [
    "---"
   ]
  },
  {
   "cell_type": "markdown",
   "id": "3fa88196",
   "metadata": {},
   "source": [
    "## Summary\n",
    "In this notebook, we explored the motivation, context, and scientific importance of analyzing salinity patterns in South Florida. We introduced the curated buoy datasets processed through the EnviStor smart data pipeline and made accessible via PelicanFS, part of the Open Science Data Federation. The reader now understands why salinity matters, how the data was collected and prepared, and what question the upcoming technical notebook will answer. This context sets the stage for a reproducible, user-facing environmental analysis powered by FAIR data infrastructure.\n",
    "\n",
    "\n",
    "### What’s Next?\n",
    "\n",
    "In the next notebook, we will:\n",
    "\n",
    "- **Load salinity datasets** for three buoy stations (NW Biscayne Bay, Haulover Inlet, and Little River) directly from OSDF via PelicanFS.\n",
    "- **Combine and clean the data**: We’ll merge the datasets into a single time series, convert timestamps, label each station, and handle any missing or invalid salinity readings.\n",
    "- **Resample to daily averages** to reduce noise and highlight broader trends.\n",
    "- **Visualize the results** using line plots to show salinity over time for each location, making it easy to compare patterns across stations.\n",
    "- **Analyze temporal and spatial patterns**, such as seasonal variations, sudden shifts, or location-specific behaviors that may suggest environmental changes like saltwater intrusion or storm impact.\n",
    "\n",
    "This notebook will give users a complete, reproducible workflow that demonstrates how curated environmental data can be analyzed using standard Python tools — all made possible by the EnviStor pipeline and OSDF infrastructure.\n"
   ]
  }
 ],
 "metadata": {
  "kernelspec": {
   "display_name": "Python 3 (ipykernel)",
   "language": "python",
   "name": "python3"
  },
  "language_info": {
   "codemirror_mode": {
    "name": "ipython",
    "version": 3
   },
   "file_extension": ".py",
   "mimetype": "text/x-python",
   "name": "python",
   "nbconvert_exporter": "python",
   "pygments_lexer": "ipython3",
   "version": "3.12.8"
  }
 },
 "nbformat": 4,
 "nbformat_minor": 5
}
