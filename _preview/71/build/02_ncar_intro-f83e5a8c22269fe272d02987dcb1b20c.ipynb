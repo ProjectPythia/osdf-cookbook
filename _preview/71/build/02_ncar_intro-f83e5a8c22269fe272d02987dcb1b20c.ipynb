{
 "cells": [
  {
   "cell_type": "markdown",
   "metadata": {},
   "source": [
    "# Introduction to the Research Data Archive"
   ]
  },
  {
   "cell_type": "markdown",
   "metadata": {},
   "source": [
    "```{image} ../thumbnails/2024_NSF_NCAR_RDA_Logo_Blue.png\n",
    ":alt: NSF NCAR RDA logo\n",
    ":width: 300px\n",
    "```\n",
    "\n"
   ]
  },
  {
   "cell_type": "markdown",
   "metadata": {},
   "source": [
    "---"
   ]
  },
  {
   "cell_type": "markdown",
   "metadata": {},
   "source": [
    "## Overview\n",
    "\n",
    "The **Research Data Archive (RDA)** is a large, publicly accessible collection of atmospheric, oceanic, and related geophysical data managed at the **National Center for Atmposheric Research (NCAR)** sponsored by the **National Science Foundation (NSF)**\n",
    "\n",
    "Currently the Research Data Archive can be visited using the link [https://rda.ucar.edu](https://rda.ucar.edu)\n",
    "\n",
    "### In this tutorial you will learn:\n",
    "\n",
    "1. Purpose of the RDA\n",
    "1. Types of data\n",
    "1. Features and tools\n",
    "1. Access and connection to OSDF\n"
   ]
  },
  {
   "cell_type": "markdown",
   "metadata": {},
   "source": [
    "---"
   ]
  },
  {
   "cell_type": "markdown",
   "metadata": {},
   "source": [
    "## Purpose of the RDA\n",
    "\n",
    "The RDA provides free access to curated data for research, with an emphasis on datasets which provide high value to NCAR and member university researchers.\n",
    "\n",
    "Additionally, the RDA provides value added services and tools to help scientists discover, access, and manipulate data.\n",
    "\n",
    "There is also an increasing empahsis on enabling users to stream data locally or apply computations directly to data."
   ]
  },
  {
   "cell_type": "markdown",
   "metadata": {},
   "source": [
    "## Types of Data\n",
    "\n",
    "The RDA data has a wide variety of datasets that cover many different domains of geosciences including: \n",
    "\n",
    "- Global and regional reanalysis datasets (e.g., [ERA5](https://rda.ucar.edu/datasets/d633000/), [NCEP/NCAR](https://rda.ucar.edu/datasets/d090002/), [JRA-3Q](https://rda.ucar.edu/datasets/d640000/))\n",
    "- Numerical weather prediction model output (e.g. [GFS](https://rda.ucar.edu/datasets/d084001/))\n",
    "- Observational data (e.g., surface, radiosonde, satellite)\n",
    "- Climate model simulations (e.g., [CESM](https://rda.ucar.edu/dssearch/?words=CESM2))\n",
    "- Oceanographic datasets (e.g. [ICOADS](https://rda.ucar.edu/datasets/d548000/))\n",
    "\n",
    "### File Formats\n",
    "\n",
    "- [NetCDF4](https://docs.unidata.ucar.edu/netcdf-c/current/faq.html#ncFAQGeneral)\n",
    "- [Grib](https://codes.ecmwf.int/grib/format/grib2/overview/)\n",
    "- Proprietary binary\n",
    "- [BUFR](https://www.ecmwf.int/sites/default/files/elibrary/2008/80533-bufr-users-guide_0.pdf)\n",
    "- [Zarr](https://zarr.dev/)\n",
    "- [Kerchunk](https://fsspec.github.io/kerchunk/)"
   ]
  },
  {
   "cell_type": "markdown",
   "metadata": {},
   "source": [
    "## Features and Tools"
   ]
  },
  {
   "cell_type": "markdown",
   "metadata": {},
   "source": [
    "- Search and filtering tools for finding datasets\n",
    "- Data subsetting and format conversion\n",
    "- Documentation and metadata for reproducibility\n",
    "- APIs and scripts for automated access\n",
    "\n"
   ]
  },
  {
   "cell_type": "markdown",
   "metadata": {},
   "source": [
    "## Access and OSDF\n",
    "\n",
    "All datasets are open and free to download, however registration (via ORCID) is required for subset requests\n",
    "\n",
    "If you made it this far, you might wonder how the RDA has to do with the **Open Science Data Federation (OSDF)**? \n",
    "\n",
    "**A:**\n",
    "The RDA is a member of the OSDF and it's data holdings are served via an origin. \n",
    "The implications are that subsequent requests of the same data will result in lower latency as data will be stored at a geographically close cache.  "
   ]
  },
  {
   "cell_type": "markdown",
   "metadata": {},
   "source": [
    "---"
   ]
  },
  {
   "cell_type": "markdown",
   "metadata": {},
   "source": [
    "## Summary\n",
    "In essence, the NCAR RDA is a vital resource for the climate and weather research community, providing long-term, reliable access to high-quality Earth system data.\n",
    "\n",
    "### What's next?\n",
    "\n",
    "RDA is currently undergoing a rebranding effort and will soon be renamed **GDEX**, which stands for **Geoscience Data Exchange**. Essentially, all references to RDA can be replaced with GDEX as of Sep 9, 2025."
   ]
  },
  {
   "cell_type": "markdown",
   "metadata": {},
   "source": [
    "## Resources and references\n"
   ]
  },
  {
   "cell_type": "code",
   "execution_count": null,
   "metadata": {},
   "outputs": [],
   "source": []
  }
 ],
 "metadata": {
  "kernelspec": {
   "display_name": "Python 3 (ipykernel)",
   "language": "python",
   "name": "python3"
  },
  "language_info": {
   "codemirror_mode": {
    "name": "ipython",
    "version": 3
   },
   "file_extension": ".py",
   "mimetype": "text/x-python",
   "name": "python",
   "nbconvert_exporter": "python",
   "pygments_lexer": "ipython3",
   "version": "3.11.8"
  },
  "nbdime-conflicts": {
   "local_diff": [
    {
     "diff": [
      {
       "diff": [
        {
         "key": 0,
         "op": "addrange",
         "valuelist": [
          "Python 3"
         ]
        },
        {
         "key": 0,
         "length": 1,
         "op": "removerange"
        }
       ],
       "key": "display_name",
       "op": "patch"
      }
     ],
     "key": "kernelspec",
     "op": "patch"
    }
   ],
   "remote_diff": [
    {
     "diff": [
      {
       "diff": [
        {
         "key": 0,
         "op": "addrange",
         "valuelist": [
          "Python3"
         ]
        },
        {
         "key": 0,
         "length": 1,
         "op": "removerange"
        }
       ],
       "key": "display_name",
       "op": "patch"
      }
     ],
     "key": "kernelspec",
     "op": "patch"
    }
   ]
  },
  "toc-autonumbering": false
 },
 "nbformat": 4,
 "nbformat_minor": 4
}
