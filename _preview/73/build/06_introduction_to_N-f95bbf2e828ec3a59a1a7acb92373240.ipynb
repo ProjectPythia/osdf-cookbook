{
 "cells": [
  {
   "cell_type": "markdown",
   "metadata": {},
   "source": [
    "# Introduction to NSDF-OpenVISUS"
   ]
  },
  {
   "cell_type": "markdown",
   "metadata": {},
   "source": [
    "\n",
    "```{image} ../thumbnails/nsdf.png\n",
    ":alt: NSDF logo\n",
    ":width: 180px\n",
    "```\n"
   ]
  },
  {
   "cell_type": "markdown",
   "metadata": {},
   "source": [
    "# OpenViSUS: High Performance Big Data Analysis and Visualization\n",
    "\n",
    "## Overview\n",
    "OpenViSUS is an open-source framework designed for efficient management, analysis, and visualization of large-scale scientific datasets. It enables interactive exploration of petabyte-scale data on a wide range of devices, from supercomputers to commodity laptops, making big data accessible to all users."
   ]
  },
  {
   "cell_type": "markdown",
   "metadata": {},
   "source": [
    "\n",
    "## Key Features\n",
    "- **Efficient Data Storage:** Uses the IDX format, which stores data in a hierarchical Z (HZ) order for cache-oblivious, progressive access.\n",
    "- **Scalable Visualization:** Enables interactive visualization of terabyte and petabyte datasets without requiring high-end hardware.\n",
    "- **Progressive Streaming:** Optimizes network utilization with state-of-the-art compression algorithms for fast data delivery and streaming.\n",
    "- **Web-Based Dashboards:** Provides customizable dashboards for data analysis accessible from any device with an internet connection.\n",
    "- **Open Source:** Distributed under the permissive BSD license."
   ]
  },
  {
   "cell_type": "markdown",
   "metadata": {},
   "source": [
    "## Data Storage: The IDX Format\n",
    "- **Hierarchical Z (HZ) Order:** Data is organized to allow efficient, multi-resolution access and visualization.\n",
    "- **Progressive Access:** Users can interactively explore data at different resolutions, starting with coarse overviews and refining to full detail as needed.\n"
   ]
  },
  {
   "cell_type": "markdown",
   "metadata": {},
   "source": [
    "## Data Delivery\n",
    "- **Interactive Streaming:** Share and stream large datasets using simple server modules (e.g., Apache), enabling teravoxel imagery delivery.\n",
    "- **Cloud and Local Access:** Data can be accessed from local storage or cloud repositories, with optimized streaming for remote analysis."
   ]
  },
  {
   "cell_type": "markdown",
   "metadata": {},
   "source": [
    "## Interactive Analysis and Visualization\n",
    "- **Cross-Platform:** Works on supercomputers, desktops, and laptops.\n",
    "- **Scripting Support:** Experiment with interactive scripting for rapid data insights.\n",
    "- **User-Friendly Querying:** Abstracts complexities of file systems and cloud services, allowing scientists to focus on analysis.\n",
    "\n"
   ]
  },
  {
   "cell_type": "markdown",
   "metadata": {},
   "source": [
    "## 2026 IEEE SciVis  Contest\n",
    "\n",
    "NSDF-OpenVISUS is directly supporting the 2026 IEEE SciVis Contest. This contest is held annually as part of the IEEE VIS Conference. In 2026, this contest will focus on the visualization of petascale oceanic and atmospheric climate data provided by NASA. This year’s challenge emphasizes advanced visualization methods for exploring vast climate datasets, encouraging innovative solutions that address real-world issues such as climate prediction, weather simulation, and environmental impact analysis.\n",
    "\n",
    "\n",
    "The best submission wins $1000 cash prize. Find more information on the official <a href=\"https://sciviscontest2026.github.io/\" target=\"_blank\">SciVis website</a>."
   ]
  },
  {
   "cell_type": "markdown",
   "metadata": {},
   "source": [
    "## Example Use Cases\n",
    "- <a href='https://chpc3.nationalsciencedatafabric.org:11957/dashboards' target='_blank' >NASA LLC2160 Data Interactive Dashboard</a>\n",
    "- <a href=\"https://nasa-arset.nationalsciencedatafabric.org\" target='_blank'> NEX-GDDP-CMIP6 Dashboard</a>\n",
    "- Classroom deployment for minority-serving institutions"
   ]
  },
  {
   "cell_type": "markdown",
   "metadata": {},
   "source": [
    "## Other Deplyments\n",
    "1. <a href=\"https://www.chess.cornell.edu/national-science-data-fabric-and-chess-collaborate-democratize-data-driven-scientific-discovery\" target= \"_blank\">Cornell High Energy Synchrotron Source (CHESS)</a>\n",
    "2. <a href=\"https://ncar.nationalsciencedatafabric.org/neon-demo/v1\" target='_blank'> National Center for Atmospheric Research (NCAR) </a>\n",
    "3. <a href='https://data.neonscience.org/data-products/DP3.30010.001' target='_blank'> NEON </a>\n",
    "4. <a href=\"https://chpc3.nationalsciencedatafabric.org:8989/dashboards\" target = '_blank'>SOMOSPIE </a>"
   ]
  },
  {
   "cell_type": "markdown",
   "metadata": {},
   "source": [
    "\n",
    "## Getting Started\n",
    "### Installation\n",
    "1. **Install Using `pip`**\n",
    "   - `pip install OpenVisus`\n",
    "2. **Build from Source:**\n",
    "   - Clone the repository: `git clone https://github.com/sci-visus/OpenVisus.git`\n",
    "   - Follow instructions in the `README.md` and `docs/compilation.md` for building on your platform.\n"
   ]
  },
  {
   "cell_type": "markdown",
   "metadata": {},
   "source": [
    "\n",
    "## References\n",
    "- <a href=\"https://nationalsciencedatafabric.org/\" target=\"_blank\">National Science Data Fabric</a>\n",
    "- <a href=\"https://github.com/sci-visus/OpenVisus\" target=\"_blank\">OpenVisus</a>\n",
    "- <a href=\"https://github.com/sci-visus/OpenVisuspy\" target=\"_blank\">OpenVisuspy</a>\n",
    "\n",
    "---\n",
    "Please consult these papers for technical details and use cases:\n",
    "\n",
    "- <a href=\"https://arxiv.org/abs/2408.11831v1\" target=\"_blank\"> Web-based Visualization and Analytics of Petascale data: Equity as a Tide that Lifts All Boats </a>\n",
    "- <a href=\"https://arxiv.org/abs/2009.03254\" target=\"_blank\"> Interactive Visualization of Terascale Data in the Browser: Fact or Fiction?  </a>\n",
    "- <a href=\"https://sci.utah.edu/publications/Kum2014a/KumarISC2014.pdf\" target=\"_blank\">Fast Multiresolution Reads of Massive Simulation Datasets</a>"
   ]
  },
  {
   "cell_type": "markdown",
   "metadata": {},
   "source": [
    "### *Please reach out to Aashish Panta, Giorgio Scorzelli or Valerio Pascucci for any concerns about the notebook. Thank you!*\n",
    "- Aashish Panta (aashishpanta0@gmail.com)\n",
    "- Giorgio Scorzelli (scrgiorgio@gmail.com)\n",
    "- Valerio Pascucci (pascucci.valerio@gmail.com)"
   ]
  },
  {
   "cell_type": "markdown",
   "metadata": {},
   "source": [
    "---"
   ]
  }
 ],
 "metadata": {
  "kernelspec": {
   "display_name": "Python 3 (ipykernel)",
   "language": "python",
   "name": "python3"
  },
  "language_info": {
   "codemirror_mode": {
    "name": "ipython",
    "version": 3
   },
   "file_extension": ".py",
   "mimetype": "text/x-python",
   "name": "python",
   "nbconvert_exporter": "python",
   "pygments_lexer": "ipython3",
   "version": "3.12.8"
  },
  "nbdime-conflicts": {
   "local_diff": [
    {
     "diff": [
      {
       "diff": [
        {
         "key": 0,
         "op": "addrange",
         "valuelist": [
          "Python 3"
         ]
        },
        {
         "key": 0,
         "length": 1,
         "op": "removerange"
        }
       ],
       "key": "display_name",
       "op": "patch"
      }
     ],
     "key": "kernelspec",
     "op": "patch"
    }
   ],
   "remote_diff": [
    {
     "diff": [
      {
       "diff": [
        {
         "key": 0,
         "op": "addrange",
         "valuelist": [
          "Python3"
         ]
        },
        {
         "key": 0,
         "length": 1,
         "op": "removerange"
        }
       ],
       "key": "display_name",
       "op": "patch"
      }
     ],
     "key": "kernelspec",
     "op": "patch"
    }
   ]
  },
  "toc-autonumbering": false
 },
 "nbformat": 4,
 "nbformat_minor": 4
}
