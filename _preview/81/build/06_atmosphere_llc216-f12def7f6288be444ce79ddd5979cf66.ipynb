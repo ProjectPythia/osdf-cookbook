{
 "cells": [
  {
   "cell_type": "markdown",
   "metadata": {},
   "source": [
    "# DYAMOND LLC2160 Atmospheric Dataset Notebook"
   ]
  },
  {
   "cell_type": "markdown",
   "metadata": {},
   "source": [
    "\n",
    "```{image} ../thumbnails/nsdf.png\n",
    ":alt: NSDF logo\n",
    ":width: 180px\n",
    "```\n",
    "```{image} ../thumbnails/pelican.jpeg\n",
    ":alt: Pelican Platform logo\n",
    ":width: 100px\n",
    ":height: 100px\n",
    "```\n"
   ]
  },
  {
   "cell_type": "markdown",
   "metadata": {},
   "source": [
    "The `DYnamics of the Atmospheric general circulation Modeled On Non-hydrostatic Domains (DYAMOND)` data provides high resolution ocean circulation models, offering unprecedented detail. This dataset comprises a C1440 configuration of the Goddard Earth Observing System (GEOS) atmospheric model, with 7-km horizontal grid spacing and 72 vertical layers, coupled to a LLC2160 configuration of the Massachusetts Institute of Technology general circulation model (MITgcm) with 2–4-km grid spacing and 90 vertical levels. The C1440-LLC2160 simulation has been integrated for 14 months, starting from prescribed initial conditions on January 20, 2020."
   ]
  },
  {
   "cell_type": "markdown",
   "metadata": {},
   "source": [
    "This notebook is the second part of the `DYAMOND LLC2160 Ocean Dataset Cookbook`."
   ]
  },
  {
   "cell_type": "markdown",
   "metadata": {},
   "source": [
    "## Overview\n",
    "\n",
    "This notebook demonstrates how to access and visualize high-resolution atmospheric data from the DYAMOND dataset using OpenVisus. The data is hosted in OSDF and served using Pelican Platform and OpenVisus. You'll learn how to read metadata from the cloud, interactively select variables, and explore regional and depth-based slices of the data.\n",
    "\n",
    "1. Read the metadata file from cloud  \n",
    "2. Data Subset  \n",
    "3. Visualize the data  \n",
    "4. Explore multi-resolution data for a specific region and depth  \n",
    "\n",
    "By the end of this notebook, you will understand how to:\n",
    "- Stream and query oceanographic data using PelicanFS\n",
    "- Use metadata to inform data exploration\n",
    "- Visualize regional and depth-specific ocean data using Panel and Bokeh\n"
   ]
  },
  {
   "cell_type": "markdown",
   "metadata": {},
   "source": [
    "## Prerequisites\n",
    "\n",
    "This section was inspired by [this template](https://github.com/alan-turing-institute/the-turing-way/blob/master/book/templates/chapter-template/chapter-landing-page.md) of the wonderful [The Turing Way](https://the-turing-way.netlify.app) Jupyter Book.\n",
    "\n",
    "| Concepts | Importance | Notes |\n",
    "| --- | --- | --- |\n",
    "| [OpenVisus](https://github.com/sci-visus/OpenVisus) | Helpful | Required for multiresolution data access and streaming |\n",
    "| Oceanographic data formats and interpretation | Helpful | Understanding of gridded climate/ocean data such as LLC2160 |\n",
    "| [PelicanFS](https://github.com/PelicanPlatform/pelican) | Helpful | Used for high-throughput data access from cloud storage |\n",
    "\n",
    "- **Time to learn**: 30 minutes  \n",
    "- **System requirements**:  \n",
    "  - Python packages: `panel`, `bokeh`, `xmltodict`, `colorcet`, `boto3`, `basemap`, `pelicanfs`, `OpenVisus`, `openvisuspy`  \n",
    "  - Recommended: Python ≥ 3.8, internet access for cloud-hosted data\n"
   ]
  },
  {
   "cell_type": "markdown",
   "metadata": {},
   "source": [
    "# **Step 1: Importing the libraries**"
   ]
  },
  {
   "cell_type": "code",
   "execution_count": null,
   "metadata": {},
   "outputs": [],
   "source": [
    "import numpy as np\n",
    "import openvisuspy as ovp\n",
    "import matplotlib.pyplot as plt"
   ]
  },
  {
   "cell_type": "markdown",
   "metadata": {},
   "source": [
    "### The section below shows different LLC2160 fields we have available in cloud. Each field is >200TB."
   ]
  },
  {
   "cell_type": "code",
   "execution_count": null,
   "metadata": {},
   "outputs": [],
   "source": [
    "variable = 'u'\n",
    "face=0 # 6 variables are available\n",
    "timestep=1 # There are 10000 timesteps available"
   ]
  },
  {
   "cell_type": "code",
   "execution_count": null,
   "metadata": {},
   "outputs": [],
   "source": [
    "base_url= \"pelican://osg-htc.org/nasa/nsdf/climate3/dyamond/GEOS/\"\n",
    "var_dir=f\"GEOS_{variable.upper()}/{variable.lower()}_face_{face}_depth_52_time_0_10269.idx\"\n",
    "var_url=base_url+var_dir"
   ]
  },
  {
   "cell_type": "markdown",
   "metadata": {},
   "source": [
    "## **Step 2: Reading the metadata file from cloud**\n",
    "In this section, you can select any variables that you can declared in the cells above and replace it inside `LoadDataset`. We are just reading the metadata for the dataset here."
   ]
  },
  {
   "cell_type": "code",
   "execution_count": null,
   "metadata": {
    "scrolled": true
   },
   "outputs": [],
   "source": [
    "db=ovp.LoadDataset(var_url)\n",
    "print(f'Dimensions: {db.getLogicBox()[1][0]}*{db.getLogicBox()[1][1]}*{db.getLogicBox()[1][2]}')\n",
    "print(f'Total Timesteps: {len(db.getTimesteps())}')\n",
    "print(f'Field: {db.getField().name}')\n",
    "print('Data Type: float32')"
   ]
  },
  {
   "cell_type": "markdown",
   "metadata": {},
   "source": [
    "## **Step 3:  Data Selection**\n",
    "This section shows you how to load the data you want. You can select any timestep, region (x,y,z) you want. You can set the quality or resolution of the data as well. Higher quality means the finer(more) data. Not setting any time means first timestep available. Not setting quality means full data which takes a while to load because of the higher filesize.  Since each timestep is >30GB, I am only selecting 1 level out of 90."
   ]
  },
  {
   "cell_type": "code",
   "execution_count": null,
   "metadata": {},
   "outputs": [],
   "source": [
    "data=db.db.read(time=0,z=[0,1],quality=-4) #Since each timestep is >30GB, I am only selecting 1 level out of 90.\n",
    "data.shape"
   ]
  },
  {
   "cell_type": "markdown",
   "metadata": {},
   "source": [
    "## **Step 4:  Visualize the data**\n",
    "We are using a simple matplotlib here, but since the data is in numpy array, it can loaded with any python modules that support numpy. Feel free to set the `vmin`,`vmax` appropriately."
   ]
  },
  {
   "cell_type": "code",
   "execution_count": null,
   "metadata": {},
   "outputs": [],
   "source": [
    "fig,axes=plt.subplots(1,1,figsize=(12,8))\n",
    "im= axes.imshow(data[0,:,:], aspect='auto',origin='lower',cmap='coolwarm')\n",
    "cbar = plt.colorbar(im, ax=axes)\n",
    "cbar.set_label('Temperature (deg. C)')\n",
    "plt.show()\n"
   ]
  },
  {
   "cell_type": "markdown",
   "metadata": {},
   "source": [
    "### *Please reach out to Aashish Panta, Giorgio Scorzelli or Valerio Pascucci for any concerns about the notebook. Thank you!*\n",
    "- Aashish Panta (aashishpanta0@gmail.com)\n",
    "- Giorgio Scorzelli (scrgiorgio@gmail.com)\n",
    "- Valerio Pascucci (pascucci.valerio@gmail.com)"
   ]
  }
 ],
 "metadata": {
  "kernelspec": {
   "display_name": "Python 3 (ipykernel)",
   "language": "python",
   "name": "python3"
  },
  "language_info": {
   "codemirror_mode": {
    "name": "ipython",
    "version": 3
   },
   "file_extension": ".py",
   "mimetype": "text/x-python",
   "name": "python",
   "nbconvert_exporter": "python",
   "pygments_lexer": "ipython3",
   "version": "3.12.8"
  },
  "nbdime-conflicts": {
   "local_diff": [
    {
     "diff": [
      {
       "diff": [
        {
         "key": 0,
         "op": "addrange",
         "valuelist": [
          "Python 3"
         ]
        },
        {
         "key": 0,
         "length": 1,
         "op": "removerange"
        }
       ],
       "key": "display_name",
       "op": "patch"
      }
     ],
     "key": "kernelspec",
     "op": "patch"
    }
   ],
   "remote_diff": [
    {
     "diff": [
      {
       "diff": [
        {
         "key": 0,
         "op": "addrange",
         "valuelist": [
          "Python3"
         ]
        },
        {
         "key": 0,
         "length": 1,
         "op": "removerange"
        }
       ],
       "key": "display_name",
       "op": "patch"
      }
     ],
     "key": "kernelspec",
     "op": "patch"
    }
   ]
  },
  "toc-autonumbering": false
 },
 "nbformat": 4,
 "nbformat_minor": 4
}
